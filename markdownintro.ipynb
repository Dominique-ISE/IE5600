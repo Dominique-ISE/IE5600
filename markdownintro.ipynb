{
 "cells": [
  {
   "cell_type": "markdown",
   "metadata": {
    "slideshow": {
     "slide_type": ""
    }
   },
   "source": [
    "# Ten-minutes Introduction to Markdown"
   ]
  },
  {
   "cell_type": "markdown",
   "metadata": {
    "slideshow": {
     "slide_type": "subslide"
    }
   },
   "source": [
    "## Step 1 – Inserting paragraph and line breaks"
   ]
  },
  {
   "cell_type": "markdown",
   "metadata": {
    "slideshow": {
     "slide_type": "subslide"
    }
   },
   "source": [
    "A paragraph,\n",
    "divided into two lines.\n",
    "\n",
    "<p>A paragraph,\n",
    "divided into two lines.</p>"
   ]
  },
  {
   "cell_type": "markdown",
   "metadata": {
    "slideshow": {
     "slide_type": "subslide"
    }
   },
   "source": [
    "A paragraph\n",
    "\n",
    "Another paragraph, separated by a new line.\n",
    "\n",
    "<p>A paragraph</p>\n",
    "<p>Another paragraph, separated by a new line.</p>"
   ]
  },
  {
   "cell_type": "markdown",
   "metadata": {},
   "source": [
    "A sentence,  \n",
    "with a line break.\n",
    "\n",
    "<p>A sentence, <br />\n",
    "with a line break</p>"
   ]
  },
  {
   "cell_type": "markdown",
   "metadata": {},
   "source": [
    "## Step 2 – Inserting headers"
   ]
  },
  {
   "cell_type": "markdown",
   "metadata": {},
   "source": [
    "Header 1\n",
    "========\n",
    "\n",
    "Header 2\n",
    "--------\n",
    "\n",
    "<h1>Header 1</h1>\n",
    "<h2>Header 2</h2>"
   ]
  },
  {
   "cell_type": "markdown",
   "metadata": {},
   "source": [
    "# Header 1\n",
    "## Header 2\n",
    "### Header 3\n",
    "#### Header 4\n",
    "##### Header 5\n",
    "###### Header 6\n",
    "\n",
    "# Header 1 #\n",
    "## Header 2 ##\n",
    "### Header 3 ###\n",
    "#### Header 4 ####\n",
    "##### Header 5 #####\n",
    "###### Header 6 ######\n",
    "\n",
    "<h1>Header 1</h1>\n",
    "<h2>Header 2</h2>\n",
    "<h3>Header 3</h3>\n",
    "<h4>Header 4</h4>\n",
    "<h5>Header 5</h5>\n",
    "<h6>Header 6</h6>\n"
   ]
  },
  {
   "cell_type": "markdown",
   "metadata": {},
   "source": [
    "## Step 3 – Inserting emphasis"
   ]
  },
  {
   "cell_type": "markdown",
   "metadata": {},
   "source": [
    "*single asterisks*\n",
    "_single underscores_\n",
    "**double asterisks**\n",
    "__double underscores__\n",
    "\n",
    "<em>single asterisks</em>\n",
    "<em>single underscores</em>\n",
    "<strong>double asterisks</strong>\n",
    "<strong>double underscores</strong>"
   ]
  },
  {
   "cell_type": "markdown",
   "metadata": {},
   "source": [
    "## Step 4 – Inserting lists"
   ]
  },
  {
   "cell_type": "markdown",
   "metadata": {},
   "source": [
    "1. One\n",
    "2. Two\n",
    "6. Six\n",
    "\n",
    "<ol>\n",
    "  <li>One</li>\n",
    "  <li>Two</li>\n",
    "  <li>Six</li>\n",
    "</ol>"
   ]
  },
  {
   "cell_type": "markdown",
   "metadata": {},
   "source": [
    "* A list.\n",
    "* Second element.\n",
    "+ A new entry.\n",
    "- Another entry in a list.\n",
    "- And the list goes on.\n",
    "\n",
    "\n",
    "<ul>\n",
    "  <li>A list.</li>\n",
    "  <li>Second element.</li>\n",
    "  <li>A new entry.</li>\n",
    "  <li>Another entry in a list.</li>\n",
    "  <li>And the list goes on.</li>\n",
    "</ul>"
   ]
  },
  {
   "cell_type": "markdown",
   "metadata": {},
   "source": [
    "- First level\n",
    "    - Second level\n",
    "        - Third level\n",
    "    - Second level again\n",
    "    \n",
    "<ul>\n",
    "  <li>First level\n",
    "  <ul><li>Second level\n",
    "      <ul><li>Third level</li></ul></li>\n",
    "      <li>Second level again</li></ul></li>\n",
    "</ul>"
   ]
  },
  {
   "cell_type": "markdown",
   "metadata": {},
   "source": [
    "## Step 5 – Inserting links"
   ]
  },
  {
   "cell_type": "markdown",
   "metadata": {},
   "source": [
    "An example of [inline link](http://example.com \"Example\").\n",
    "\n",
    "[This link](http://example.net/) has no title attribute.\n",
    "\n",
    "<p>An example of <a href=\"http://example.com\"title=\"Example\">inline link</a>.</p>\n",
    "<p><a href=\"http://example.net/\">This link</a> has no title attribute.</p>"
   ]
  },
  {
   "cell_type": "markdown",
   "metadata": {},
   "source": [
    "This is [an example][id] reference-style link.\n",
    "\n",
    "This is [an example] [id] reference-style link.\n",
    "\n",
    "[id]: http://example.com/  \"Optional Title Here\"\n",
    "[id]: http://example.com/  'Optional Title Here'\n",
    "[id]: http://example.com/  (Optional Title Here)\n",
    "\n",
    "<p>This is <a href=\"http://example.com/\" title=\"Optional TitleHere\">an example</a> reference-style link.</p>\n"
   ]
  },
  {
   "cell_type": "markdown",
   "metadata": {},
   "source": [
    "This is [another example] reference-style link.\n",
    "\n",
    "This is [reference-style][another example] link.\n",
    "\n",
    "[another example]: http://example.com/"
   ]
  },
  {
   "cell_type": "markdown",
   "metadata": {},
   "source": [
    "## Step 6 – Inserting automatic links"
   ]
  },
  {
   "cell_type": "markdown",
   "metadata": {},
   "source": [
    "<http://example.com/>\n",
    "\n",
    "<p><a href=\"http://example.com/\">http://example.com/</a></p>"
   ]
  },
  {
   "cell_type": "markdown",
   "metadata": {},
   "source": [
    "<address@example.com>\n",
    "\n",
    "<p><a href=\"mailto:address@example.com\">address@example.com</a></p>"
   ]
  },
  {
   "cell_type": "markdown",
   "metadata": {},
   "source": [
    "## Step 7 – Inserting blockquotes"
   ]
  },
  {
   "cell_type": "markdown",
   "metadata": {},
   "source": [
    "> A blockquote.\n",
    "> Another line of blockquote.\n",
    "\n",
    "<blockquote>\n",
    "  <p>A blockquote.\n",
    "  Another line of blockquote.</p>\n",
    "</blockquote>\n"
   ]
  },
  {
   "cell_type": "markdown",
   "metadata": {},
   "source": [
    "> First level of the quote.\n",
    ">> Nested blockquote.\n",
    "\n",
    "<blockquote>\n",
    "  <p>First level of the quote.</p>\n",
    "  <blockquote>\n",
    "    <p>Nested blockquote.</p>\n",
    "  </blockquote>\n",
    "</blockquote>"
   ]
  },
  {
   "cell_type": "markdown",
   "metadata": {},
   "source": [
    "## Step 8 – Inserting code blocks"
   ]
  },
  {
   "cell_type": "markdown",
   "metadata": {},
   "source": [
    "    echo 'Hello World'\n",
    "    \n",
    "<pre><code>echo 'Hello World'</code></pre>"
   ]
  },
  {
   "cell_type": "markdown",
   "metadata": {},
   "source": [
    "## Step 9 – Inserting code spans"
   ]
  },
  {
   "cell_type": "markdown",
   "metadata": {},
   "source": [
    "Type `echo 'Hello World'` in your terminal\n",
    "\n",
    "<p>Type <code>echo 'Hello World'</code> in your terminal</p>"
   ]
  },
  {
   "cell_type": "markdown",
   "metadata": {},
   "source": [
    "## Step 10 – Inserting images"
   ]
  },
  {
   "cell_type": "markdown",
   "metadata": {},
   "source": [
    "![Alt text](asciimap.png \"Optional title\")\n",
    "\n",
    "<p><img src=\"asciimap.png\" alt=\"Alt text\" title=\"Optional title\" /></p>"
   ]
  },
  {
   "cell_type": "markdown",
   "metadata": {},
   "source": [
    "![Alt text][id]\n",
    "\n",
    "[id]: asciimap.png \"Optional title attribute\"\n",
    "\n",
    "<p><img src=\"asciimap.png\" alt=\"Alt text\" title=\"Optional title attribute\" /></p>"
   ]
  },
  {
   "cell_type": "markdown",
   "metadata": {},
   "source": [
    "## Step 11 – Inserting horizontal rules"
   ]
  },
  {
   "cell_type": "markdown",
   "metadata": {},
   "source": [
    "---\n",
    "***\n",
    "*****\n",
    "* * *\n",
    "___\n",
    "\n",
    "Separate \n",
    "\n",
    "<hr />"
   ]
  },
  {
   "cell_type": "markdown",
   "metadata": {},
   "source": [
    "## Step 12 – Inserting backslash escapes"
   ]
  },
  {
   "cell_type": "markdown",
   "metadata": {},
   "source": [
    "\\\\   backslash\n",
    "\n",
    "\\`   backtick\n",
    "\n",
    "\\*   asterisk\n",
    "\n",
    "\\_   underscore\n",
    "\n",
    "\\{}  curly braces\n",
    "\n",
    "\\[]  square brackets\n",
    "\n",
    "\\()  parentheses\n",
    "\n",
    "\\#   hash mark\n",
    "\n",
    "\\+   plus sign\n",
    "\n",
    "\\-   minus sign (hyphen)\n",
    "\n",
    "\\.   dot\n",
    "\n",
    "\\!   exclamation mark\n",
    "\n",
    "\n",
    "\n",
    "\\*this text is surrounded by literal asterisks\\*\n",
    "\n",
    "<p>*this text is surrounded by literal asterisks*</p>"
   ]
  },
  {
   "cell_type": "markdown",
   "metadata": {},
   "source": [
    "## Step 13 – Inserting HTML\n",
    "\n",
    "#### Finally, Markdown allows you to include raw HTML. You may write HTML code anywhere in a document. Consider the following example:\n",
    "\n",
    "\n",
    "This is a paragraph.\n",
    "<table>\n",
    "  <tr>\n",
    "    <td>Row</td>\n",
    "  </tr>\n",
    "</table>\n",
    "\n",
    "This is another paragraph.\n",
    "\n",
    "\n",
    "<p>This is a paragraph.</p>\n",
    "\n",
    "<table>\n",
    "  <tr>\n",
    "    <td>Row</td>\n",
    "  </tr>\n",
    "</table>\n",
    "<p>This is another paragraph.</p>\n"
   ]
  },
  {
   "cell_type": "markdown",
   "metadata": {},
   "source": [
    "## Step 14 – Markdown extensions\n",
    "\n",
    "Here is some text containing a footnote[^somefootnote]. More text\n",
    "\n",
    "[^somefootnote]: Here is the text of the footnote itself."
   ]
  },
  {
   "cell_type": "markdown",
   "metadata": {},
   "source": [
    "\n",
    "| First Header | Second Header |\n",
    "| :----------: | :-----------: |\n",
    "| First row    |      Data     |\n",
    "| Second row   |    **Cell**   |   \n",
    "[simple_table]\n"
   ]
  },
  {
   "cell_type": "markdown",
   "metadata": {},
   "source": [
    "### Typesetting in Latex - One of the most beautiful theorems\n",
    "\n",
    "\n",
    "\\\\[\\Huge {e}^{i\\pi }+1=0 \\\\]\n",
    "\n"
   ]
  },
  {
   "cell_type": "markdown",
   "metadata": {},
   "source": []
  }
 ],
 "metadata": {
  "kernelspec": {
   "display_name": "Python 3",
   "language": "python",
   "name": "python3"
  },
  "language_info": {
   "codemirror_mode": {
    "name": "ipython",
    "version": 3
   },
   "file_extension": ".py",
   "mimetype": "text/x-python",
   "name": "python",
   "nbconvert_exporter": "python",
   "pygments_lexer": "ipython3",
   "version": "3.7.4"
  }
 },
 "nbformat": 4,
 "nbformat_minor": 2
}

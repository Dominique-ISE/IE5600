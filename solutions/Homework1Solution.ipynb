{
 "cells": [
  {
   "cell_type": "markdown",
   "metadata": {},
   "source": [
    "# P125\n",
    "\n",
    "Written by HOONG AN SHENG, SAMUEL"
   ]
  },
  {
   "cell_type": "code",
   "execution_count": null,
   "metadata": {},
   "outputs": [],
   "source": [
    "s1 = str(input())\n",
    "s2 = str(input())\n",
    "\n",
    "# s1 = 'anagram'\n",
    "# s2 = 'agaram'\n",
    "\n",
    "if sorted(s1) == sorted(s2):\n",
    "\tprint('True')\n",
    "else:\n",
    "\tprint('False')\n",
    "\n"
   ]
  },
  {
   "cell_type": "markdown",
   "metadata": {},
   "source": [
    "# P128\n",
    "\n",
    "Written by TANG CHOR THENG"
   ]
  },
  {
   "cell_type": "code",
   "execution_count": null,
   "metadata": {},
   "outputs": [],
   "source": [
    "try:\n",
    "    a1 = list(map(int, input().split()))\n",
    "    a2 = list(map(int, input().split()))\n",
    "    a3 = sorted(set(a1)&set(a2))\n",
    "    print(*a3)\n",
    "except:\n",
    "    pass"
   ]
  },
  {
   "cell_type": "markdown",
   "metadata": {},
   "source": [
    "# P156\n",
    "\n",
    "Written by TANG CHOR THENG"
   ]
  },
  {
   "cell_type": "code",
   "execution_count": null,
   "metadata": {},
   "outputs": [],
   "source": [
    "r = sorted(list(map(int, input().split())))\n",
    "result = 0\n",
    "index = len(r)\n",
    "for i in r:\n",
    "    if int(i)>=index:\n",
    "        result+=1\n",
    "    index -=1\n",
    "print(result)"
   ]
  }
 ],
 "metadata": {
  "kernelspec": {
   "display_name": "Python 3",
   "language": "python",
   "name": "python3"
  },
  "language_info": {
   "codemirror_mode": {
    "name": "ipython",
    "version": 3
   },
   "file_extension": ".py",
   "mimetype": "text/x-python",
   "name": "python",
   "nbconvert_exporter": "python",
   "pygments_lexer": "ipython3",
   "version": "3.7.6"
  }
 },
 "nbformat": 4,
 "nbformat_minor": 4
}

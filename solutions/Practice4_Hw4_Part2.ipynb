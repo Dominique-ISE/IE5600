{
 "cells": [
  {
   "cell_type": "markdown",
   "metadata": {},
   "source": [
    "## Reconstructing Evolutionary Tree by Maximum Parsimony\n",
    "\n",
    "Please see wiki page [tree](https://en.wikipedia.org/wiki/Tree_(data_structure)) for basic definitions.\n",
    "\n",
    "The very first observation is you can divide the string by single bits and find the answer for these bits individually. Then we only deal with the problem with a single character.\n",
    "\n",
    "If node $u$ has 2 leaf nodes 'A' and 'C', then the character on node $u$ could be 'A' or 'C', both with cost 1. We won't fill in another character here because it won't make the cost lower even if we consider the parent node of $u$. If the characters of 2 leaf nodes are equal then just simply assign this character to node $u$ without any cost.\n",
    "\n",
    "We start at the root node $r$ (actually root node could be any node but leaf node), find the possible character set $S(a)$ and $S(b)$ for 2 children of $r$ recursively. \n",
    "- if $S(a) \\cap S(b) \\neq \\varnothing $, then $S(r) = S(a) \\cap S(b)$ with no extra cost.\n",
    "- $S(a) \\cap S(b) = \\varnothing $, then $S(r) = S(a) \\cup S(b)$ with 1 cost.\n",
    "\n",
    "$S(r)$ won't contain some character which is not in $S(a)$ or $S(b)$, the reason is explained above, it won't make the cost lower.\n"
   ]
  },
  {
   "cell_type": "markdown",
   "metadata": {},
   "source": [
    "## Garage Sale\n",
    "Design state as $dp[u][state]$. $u$ means the node you currently at, the state is a set contains garages you already visited.\n",
    "The state transition equation is like:\n",
    "\n",
    "$$ dp[mask][j] = \\max_{k \\in mask} dp[mask \\backslash \\{ j \\}][k]+g[j]-d[k][j] $$\n",
    "\n",
    "The final answer will be the maximum value in $dp[0]$\n",
    "\n",
    "Please check [travelling saleman problem](https://en.wikipedia.org/wiki/Travelling_salesman_problem) for more."
   ]
  },
  {
   "cell_type": "markdown",
   "metadata": {},
   "source": [
    "## Coin changing\n",
    "The first problem is to decide if you can make a change for value $v$ using unlimited coins of denomination $x_1, ... , x_n$.\n",
    "\n",
    "Let bool variable $dp[i][j]$ means if you can make change for value $j$ using the first $i$ types of coins. The transition equation is:\n",
    "\n",
    "$ dp[i][j] = dp[i-1][j-x(i)] \\lor dp[i][j-x(i)] \\lor dp[i-1][j] $\n",
    "\n",
    "$dp[n][v]$ will be the final answer.\n",
    "\n",
    "## Coin changing II\n",
    "If you understand the last problem, this problem will be easy.\n",
    "\n",
    "State design is the same. Let bool variable $dp[i][j]$ means if you can make change for value $j$ using the first $i$ types of coins. The transition equation is:\n",
    "\n",
    "$ dp[i][j] = dp[i-1][j-x(i)] \\lor dp[i-1][j] $\n",
    "\n",
    "$dp[i][j-x(i)]$ is removed since only one $x_i$ coin can be used.\n",
    "\n",
    "$dp[n][v]$ will be the final answer.\n",
    "\n",
    "\n",
    "## Coin changing II\n",
    "The last problem restricts that the number of coins used is at most $k$.\n",
    "\n",
    "State design is a little different. Let $dp[i][m][j]$ means if you can make change for value $j$ using $m$ coins from the first $i$ types of coins. Then the transition equation is:\n",
    "\n",
    "$ dp[i][m][j] = dp[i-1][m-1][j-x(i)] \\lor dp[i][m-1][j-x(i)] \\lor dp[i-1][m][j] $\n",
    "\n",
    "\n",
    "$dp[n][m][v]$ will be the final answer."
   ]
  },
  {
   "cell_type": "markdown",
   "metadata": {},
   "source": [
    "## Vertex Cover\n",
    "\n",
    "We could define any node to be the root node. Visit all nodes from the root node then parent node and child node are also defined. Then we define **subtree**:\n",
    "\n",
    "- If the node is a leaf node (has no child) then the subtree is the node itself.\n",
    "- If the node has child nodes, the subtree of this node is the union of itself and all its children and all subtree of its children.\n",
    "\n",
    "Let $dp[u][0]$ be the size of smallest vertex cover of the subtree of node $u$ if $u$ is not included in vertex cover, similarly let $dp[u][1]$ be the size if $u$ is included. Then the transition equation is:\n",
    "\n",
    "$$dp[0][u] = \\sum_{v \\text{ is child of } u} dp[1][v]$$\n",
    "$$dp[1][u] = \\sum_{v \\text{ is child of } u}\\max(dp[0][v], dp[1][v])$$\n",
    "\n",
    "Since if $u$ is not choosen, all its children most be choosen. Otherwise we can arbitrary choose or not choose all of its children.\n",
    "\n",
    "The the maximum value of $dp[root][0]  $ and $dp[root][1]$ is the answer."
   ]
  },
  {
   "cell_type": "markdown",
   "metadata": {},
   "source": [
    "## 3 Partition\n",
    "\n",
    "A straightforward idea is exhaustive search: Given the current array $S$ and current value of 3 partitions $a$, $b$ and $c$, try to assign some element $s_i$ to each partition then check feasibility recursively. ( Like $(S \\backslash s_i, a + s_i, b, c)$ and etc. )\n",
    "\n",
    "The idea of dynamic programming is introduced since we might visit some state $(S,a,b,c)$ for multiple time. It should be noted that if we assign values in $S$ by some pre-defined order, then $S$ is uniquely determined once $a,b,c$ is given. Another observation is $a,b,c$ is unordered, exchange any pair of value won't make any difference. Then the state should be designed as sorted tuple $(a,b,c)$. Save the feasibility when we visit any state to avoid redundant calculation."
   ]
  },
  {
   "cell_type": "markdown",
   "metadata": {},
   "source": []
  },
  {
   "cell_type": "markdown",
   "metadata": {},
   "source": [
    "## Exon Chaining\n",
    "For $i \\in \\{1, \\cdots,n\\}$, let $W(i)$ be the the weight of the best subset of consistent partial matches in\n",
    "$x[1,\\cdots ,i]$. To compute $W(i)$, we consider the two following cases:\n",
    "\n",
    "- the best subset of partial matches contains a match $j$ with $r_j = i$,\n",
    "\n",
    "- the best subset of partial matches does not contain such $j$\n",
    "\n",
    "In the first case, $W(i)$ will be the sum of $w_j$ and the weight of the best match on the remaining of the\n",
    "string, ie. $W(l_j — 1)$. In the second case, we will just have $W(i) = W(i — 1)$. This shows that the\n",
    "following recursion is correct:\n",
    "\n",
    "$$W(i)=\\max \\left\\{W(i-1), \\max _{j: r_{j}=i}\\left\\{W\\left(l_{j}-1\\right)+w_{j}\\right\\}\\right\\}$$\n",
    "\n",
    "The algorithm will then proceed computing $W (i)$ in ascending order of $i$ and will output $W(n)$ as best\n",
    "total weight achievable. To reconstruct the actual sequence of partial matches, it suffices to keep track,\n",
    "for all $W(i)$ of which $j$ maximizes the expression in the recursion, when the second maximum is the\n",
    "larger. We can then follow these pointers from $W(n)$ backwards to identify the optimal alignment.\n",
    "\n",
    "The running time is $O(n + m)$, where $m$ is the number of partial matches, as we have $n$ subproblems\n",
    "and each partial match is considered once in the maximizations."
   ]
  },
  {
   "cell_type": "markdown",
   "metadata": {},
   "source": [
    "\n",
    "## Sequence Alignment I\n",
    "This is a simple variant of the [edit distance algorithm](https://en.wikipedia.org/wiki/Edit_distance). The recursion is modified to:\n",
    "$$E(i,j) = \\max\\{E(i- 1,j) + \\delta (x_i, -), E(i- 1,j - 1) + \\delta(x_i, y_i), E(i, j- 1) + \\delta (-, y_j)\\}$$\n",
    "\n",
    "The initialization has also to be modified to deal properly with the new scoring for gaps. We have, for $i,j > 0:$\n",
    "\n",
    "$$E(0,0) =0$$\n",
    "$$E(i,0) = E(i - 1,0) + \\delta(x_i,-)$$\n",
    "$$E(0, j) = E(0,j -1) + \\delta(-, y_i)$$\n",
    "\n",
    "The correctness follows by the same argument as for the edit distance algorithm. The running time is  $O(mn)$."
   ]
  },
  {
   "cell_type": "markdown",
   "metadata": {},
   "source": [
    "## Sequence Alignment II\n",
    "\n",
    "Compared with the last problem, it might be that an optimal alignment for $E(i,j)$ is not an extension of the optimal for\n",
    "$E(i-1,j)$,$E(i—1,j -1)$, $E(i,j-1)$ as an alignment with smaller previous score but terminating with a gap might have a smaller gap penalty and beat all extensions of optimal alignments. This suggests that we should not keep a single matrix of subproblems, but 3. \n",
    "\n",
    "$E$ will be the matrix of subproblems where the alignments are constrained to be a substitution or a match in their last position. $E_x$, will be the matrix of subproblems over the alignments which have a gap in the last position of string $x$. $E_y$ is defined similarly for $y$. Given these definitions, we just need to work out the recursion correctly case\n",
    "by case.\n",
    "\n",
    "$$ E(i, j) =\\max \\left\\{E(i-1, j-1), E_{x}(i-1, j-1), E_{y}(i-1, j-1)\\right\\}+\\delta\\left(x_{i}, y_{j}\\right) $$\n",
    "\n",
    "$$ E_{x}(i, j) =\\max \\left\\{E(i-1, j)-c_{0}-c_{1}, E_{x}(i-1, j)-c_{1}, E_{y}(i-1, j)-c_{0}-c_{1}\\right\\} $$\n",
    "\n",
    "$$ E_{y}(x, y) =\\min \\left\\{E(i, j-1)-c_{0}-c_{1}, E_{x}(i, j-1)-c_{0}-c_{1}, E_{y}(i, j-1)-c_{1}\\right\\} $$\n",
    "\n",
    "The output will just be the maximum of $E(m,n)$,$E_x(m,n)$ and $E_y(m,n)$. This takes $O(mn)$ as we\n",
    "still have $O(mn)$ subproblems, each evaluated in constant time."
   ]
  },
  {
   "cell_type": "markdown",
   "metadata": {},
   "source": []
  },
  {
   "cell_type": "markdown",
   "metadata": {},
   "source": [
    "## Sequence Alignment III\n",
    "This only requires a simple modification to sequence alignment I. $E(i,j)$ becomes the score of the best scoring substring of $x[1,\\cdots ,i]$ and $y[1,\\cdots ,j]$. The recursion is then modified to take into account the possibility that\n",
    "the best local alignment be empty:\n",
    "\n",
    "$$E(i, j)=\\max \\left\\{E(i-1, j)+\\delta\\left(x_{i},-\\right), E(i-1, j-1)+\\delta\\left(x_{i}, y_{j}\\right), E(i, j-1)+\\delta\\left(-, y_{j}\\right), 0\\right\\}$$\n",
    "\n",
    "The maximum element in $E$ is the answer."
   ]
  }
 ],
 "metadata": {
  "kernelspec": {
   "display_name": "Python 3",
   "language": "python",
   "name": "python3"
  },
  "language_info": {
   "codemirror_mode": {
    "name": "ipython",
    "version": 3
   },
   "file_extension": ".py",
   "mimetype": "text/x-python",
   "name": "python",
   "nbconvert_exporter": "python",
   "pygments_lexer": "ipython3",
   "version": "3.7.6"
  }
 },
 "nbformat": 4,
 "nbformat_minor": 4
}

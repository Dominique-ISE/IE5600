{
 "cells": [
  {
   "cell_type": "markdown",
   "metadata": {},
   "source": [
    "# P166"
   ]
  },
  {
   "cell_type": "code",
   "execution_count": null,
   "metadata": {},
   "outputs": [],
   "source": [
    "t = int(input())\n",
    "\n",
    "for _ in range(t):\n",
    "\tn = int(input())\n",
    "\tres = list(map(int,input().split()))\n",
    "\tres = list(zip(res,list(range(1,n+1))))\n",
    "\tres.sort()\n",
    "\tprint(*[i[1] for i in res])"
   ]
  },
  {
   "cell_type": "markdown",
   "metadata": {},
   "source": [
    "# P168\n",
    "\n",
    "$\\begin{split} \n",
    "(\\sum a_i)^3 &= (\\sum a_i)(\\sum a_i)^2 \\\\\n",
    "&= (\\sum a_i)(\\sum a_i^2) + (\\sum a_i)(\\sum_{i \\neq j} a_i a_j)\\\\\n",
    "&= \\sum a_i^3 + \\sum_{i \\neq j} a_i a_j^2 + \\sum_{i\\neq j, j \\neq k, i \\neq k}a_i a_j a_k + 2\\sum_{i \\neq j} a_i a_j^2\\\\\n",
    "&= \\sum a_i^3 + 3\\sum_{i \\neq j} a_i a_j^2 + \\sum_{i\\neq j, j \\neq k, i \\neq k}a_i a_j a_k\\\\\n",
    "&= \\sum a_i^3 + 3(\\sum a_i)(\\sum a_i^2) - 3\\sum a_i^3 + \\sum_{i\\neq j, j \\neq k, i \\neq k}a_i a_j a_k\\\\\n",
    "&= \\sum a_i^3 + 3(\\sum a_i)(\\sum a_i^2) - 3\\sum a_i^3 + 6 \\sum_{i<j<k}a_i a_j a_k\\\\\n",
    "\\end{split}\n",
    "$"
   ]
  },
  {
   "cell_type": "code",
   "execution_count": null,
   "metadata": {},
   "outputs": [],
   "source": [
    "test = int(input())\n",
    "for _ in range(test):\n",
    "    n = int(input())\n",
    "    a = [int(i) for i in input().split()]\n",
    "    s1 = sum(a)\n",
    "    s2 = sum(map(lambda x:x**2,a))\n",
    "    s3 = sum(map(lambda x:x**3,a))\n",
    "    s = s1**3+2*s3-3*s1*s2\n",
    "    print(s//6)\n",
    "    "
   ]
  },
  {
   "cell_type": "markdown",
   "metadata": {},
   "source": [
    "# P169"
   ]
  },
  {
   "cell_type": "code",
   "execution_count": null,
   "metadata": {},
   "outputs": [],
   "source": [
    "import numpy as np\n",
    "test = int(input())\n",
    "for _ in range(test):\n",
    "\tn = int(input())\n",
    "\tA = [[int(i) for i in input().split()] for j in range(n)]\n",
    "\tA = np.array(A)\n",
    "\tprint(np.trace(A))"
   ]
  },
  {
   "cell_type": "markdown",
   "metadata": {},
   "source": [
    "# P180"
   ]
  },
  {
   "cell_type": "code",
   "execution_count": null,
   "metadata": {},
   "outputs": [],
   "source": [
    "test = int(input())\n",
    "for _ in range(test):\n",
    "    n = int(input())\n",
    "    a = [int(u) for u in input().split()]\n",
    "    s = 0\n",
    "    for k in range(n):\n",
    "        for j in range(k):\n",
    "            for i in range(j):\n",
    "                s+=a[i]*a[j]*a[k]\n",
    "    print(s)"
   ]
  }
 ],
 "metadata": {
  "kernelspec": {
   "display_name": "Python 3",
   "language": "python",
   "name": "python3"
  },
  "language_info": {
   "codemirror_mode": {
    "name": "ipython",
    "version": 3
   },
   "file_extension": ".py",
   "mimetype": "text/x-python",
   "name": "python",
   "nbconvert_exporter": "python",
   "pygments_lexer": "ipython3",
   "version": "3.7.6"
  }
 },
 "nbformat": 4,
 "nbformat_minor": 4
}

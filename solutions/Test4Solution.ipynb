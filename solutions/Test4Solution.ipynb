{
 "cells": [
  {
   "cell_type": "markdown",
   "metadata": {},
   "source": [
    "#### Stock Market Simulation\n",
    "\n",
    "Suppose you buy the stock at day $i$, you must sell the stock at the largest price after $i$. \n",
    "\n",
    "Therefore, a basic implementation would be iterate the day buy the stock and then iterate the day sell the stock.\n",
    "\n",
    "This is a $O(n^2)$ solution and sufficient to pass the timelimit.\n",
    "\n",
    "To do it in $O(n)$, you can iterate from behind, update the suffix maximum and calculate the answer. "
   ]
  },
  {
   "cell_type": "code",
   "execution_count": 2,
   "metadata": {},
   "outputs": [
    {
     "name": "stdout",
     "output_type": "stream",
     "text": [
      "0\n"
     ]
    }
   ],
   "source": [
    "T = int(input())\n",
    "for _ in range(T):\n",
    "    n = int(input())\n",
    "    a = list(map(int, input().split()))\n",
    "    ans = 0\n",
    "    Max = a[-1]\n",
    "    for i in range(n-1,-1,-1):\n",
    "        Max = max(Max,a[i])\n",
    "        ans = max(ans,Max-a[i])\n",
    "    print(ans)\n"
   ]
  },
  {
   "cell_type": "markdown",
   "metadata": {},
   "source": [
    "#### TA meeting\n",
    "\n",
    "Use bfs/dfs to obtain the set of nodes that can be reached by TA1 and TA2 respectively. The set of nodes that two TAs can meet is the intersection of two sets. \n"
   ]
  },
  {
   "cell_type": "code",
   "execution_count": 1,
   "metadata": {},
   "outputs": [
    {
     "name": "stdout",
     "output_type": "stream",
     "text": [
      "0\n"
     ]
    }
   ],
   "source": [
    "import queue\n",
    "\n",
    "test = int(input())\n",
    "for _ in range(test):\n",
    "    \n",
    "    n,m = map(int,input().split())\n",
    "    \n",
    "    adj = [[] for i in range(n)]\n",
    "    \n",
    "    for i in range(m):\n",
    "        u,v,w = map(int,input().split())\n",
    "        u-=1\n",
    "        v-=1\n",
    "        adj[u].append((v,w))\n",
    "        adj[v].append((u,w))\n",
    "    \n",
    "    def bfs(u,l):\n",
    "        q = queue.Queue()\n",
    "        vis = set()\n",
    "        vis.add(u)\n",
    "        q.put(u) \n",
    "        while not q.empty():\n",
    "            u = q.get()\n",
    "            for v in adj[u]:\n",
    "                if v[1]!=l: continue\n",
    "                if v[0] not in vis:\n",
    "                    vis.add(v[0])\n",
    "                    q.put(v[0])\n",
    "        return vis\n",
    "    \n",
    "    l1 = bfs(0,1)\n",
    "    l2 = bfs(n-1,2)\n",
    "    re = [u+1 for u in l1&l2]\n",
    "    re.sort()\n",
    "    \n",
    "    print(len(re),' '.join(map(str,re)))"
   ]
  },
  {
   "cell_type": "markdown",
   "metadata": {},
   "source": [
    "#### Travel by Car\n",
    "\n",
    "Let $dp[i][j]$ denote the cost that reach $i$km and have fuel level to be $j$.\n",
    "\n",
    "Then $dp[i][j] = min(dp[i][j-1]+c[i],dp[i-1][j+1])$. Do care with boundary cases here.\n",
    "\n",
    "The final answer would be $min(dp[n-1]) = dp[n-1][0]$. "
   ]
  },
  {
   "cell_type": "code",
   "execution_count": null,
   "metadata": {},
   "outputs": [],
   "source": [
    "import numpy as np\n",
    "\n",
    "test = int(input())\n",
    "for _ in range(test):\n",
    "    n,L = map(int,input().split())\n",
    "    c = list(map(int,input().split()))\n",
    "    \n",
    "    dp = np.zeros((n,(L+1)),dtype = int)\n",
    "    for i in range(n):\n",
    "        for j in range(L+1):\n",
    "            dp[i][j] = 1e9\n",
    "            \n",
    "    dp[0][0] = 0\n",
    "    \n",
    "    for i in range(n):\n",
    "        for j in range(L+1):\n",
    "            if j: dp[i][j] = min(dp[i][j],dp[i][j-1]+c[i])\n",
    "            if i and j+1<=L: dp[i][j] = min(dp[i][j],dp[i-1][j+1])\n",
    "            \n",
    "    print(dp[-1][0])\n"
   ]
  },
  {
   "cell_type": "markdown",
   "metadata": {},
   "source": [
    "Following DP and greedy method is also correct. The proof is omitted. "
   ]
  },
  {
   "cell_type": "code",
   "execution_count": null,
   "metadata": {},
   "outputs": [],
   "source": [
    "# test 4\n",
    "# travel by car\n",
    "\n",
    "t = int(input())\n",
    "for _ in range(t):\n",
    "    tt = list(map(int, input().split()))\n",
    "    n = tt[0]\n",
    "    L = tt[1]\n",
    "    c = list(map(int,input().split()))\n",
    "    \n",
    "    # total n-1 km to go\n",
    "    # total L capacity\n",
    "    \n",
    "    if n == 1:\n",
    "        print(0)\n",
    "    else:\n",
    "    \n",
    "        dp = [float('inf') for i in range(n)]\n",
    "    \n",
    "        dp[0] = 0\n",
    "        dp[1] = c[0]\n",
    "    \n",
    "        for i in range(2, n):\n",
    "            if i < L:\n",
    "                dp[i] = dp[i-1] + min(c[:i])\n",
    "            else:\n",
    "                dp[i] = dp[i-1] + min(c[i-L:i])\n",
    "    \n",
    "        print(dp[n-1])"
   ]
  },
  {
   "cell_type": "code",
   "execution_count": null,
   "metadata": {},
   "outputs": [],
   "source": [
    "t=int(input())\n",
    "for _ in range(t):\n",
    "    n,l=[int(i) for i in input().split()]\n",
    "    c=[int(i) for i in input().split()]\n",
    "    c[n-1] = 0\n",
    "    cur_l = 0\n",
    "    ans = 0\n",
    "    i = 0\n",
    "    \n",
    "    while i<n-1:\n",
    "        t = -1\n",
    "        for j in range(i+1,min(n,i+l+1)):\n",
    "            if c[j]<=c[i]:\n",
    "                t = j \n",
    "                break\n",
    "        if t==-1:\n",
    "            ans+=(l-cur_l)*c[i]\n",
    "            cur_l = l \n",
    "            cur_l-=1\n",
    "            i+=1\n",
    "        else:\n",
    "            tt = t-i\n",
    "            ans+=max(tt-cur_l,0)*c[i]\n",
    "            cur_l-=tt \n",
    "            cur_l = max(cur_l,0)\n",
    "            i = t\n",
    "            \n",
    "            \n",
    "    print(ans)"
   ]
  },
  {
   "cell_type": "markdown",
   "metadata": {},
   "source": [
    "## Flip Coin\n",
    "\n",
    "It may be observed that there are $2^9$ states of the table. A flip at some position can be viewed as a move from one state to another state. So the states can be viewed as nodes and a flip can be viewed as an arc. Note that the flip is reversible so the directed arc can be replaced by undirected edge. Therefore, the problem can be converted to the shortest path from one state to the state with all heads. Each state can be represented as a binary number with 9 bits. \n",
    "\n",
    "Remark that you can compute each testcase individually, or compute the shortest path of all state in a single run, and output the shortest path accordingly. Since each arc has weight one, you can use bfs to calculate the length. "
   ]
  },
  {
   "cell_type": "code",
   "execution_count": null,
   "metadata": {},
   "outputs": [],
   "source": [
    "import queue\n",
    "import time\n",
    "\n",
    "char_to_int = {'H':0,'T':1}\n",
    "\n",
    "def get_idx(row,clo):\n",
    "\treturn row*3+clo\n",
    "\n",
    "def flip(r,c,state):\n",
    "\tif r<0 or r>2 or c<0 or c>2:\n",
    "\t\treturn state\n",
    "\treturn state ^ (1<<get_idx(r,c))\n",
    "\n",
    "def select(r,c,state):\n",
    "\tdi = [[-1,0],[1,0],[0,1],[0,-1],[0,0]]\n",
    "\tfor d in di:\n",
    "\t\trr = r+d[0]\n",
    "\t\tcc = c+d[1]\n",
    "\t\tstate = flip(rr,cc,state)\n",
    "\treturn state\n",
    "\n",
    "def get_neighbors(state):\n",
    "\tres = []\n",
    "\tfor r in range(3):\n",
    "\t\tfor c in range(3):\n",
    "\t\t\tres.append(select(r,c,state))\n",
    "\treturn res\n",
    "\n",
    "\n",
    "def solve():\n",
    "\tq = queue.Queue()\n",
    "\n",
    "\tvisited = [0 for _ in range(520)]\n",
    "\n",
    "\tstate = [input() for _ in range(3)]\n",
    "\tres = 0\n",
    "\tfor r in range(3):\n",
    "\t\tfor c in range(3):\n",
    "\t\t\tres |= char_to_int[state[r][c]]<<get_idx(r,c)\n",
    "\n",
    "\tif res == 0: return 0\n",
    "\tq.put((res,0))\n",
    "\tvisited[res] = 1\n",
    "\twhile not q.empty():\n",
    "\t\tcur, dis = q.get()\n",
    "\t\tneibors = get_neighbors(cur)\n",
    "\t\tif 0 in neibors:\n",
    "\t\t\treturn dis+1\n",
    "\t\tfor n in neibors:\n",
    "\t\t\tif visited[n]==0:\n",
    "\t\t\t\tq.put((n,dis+1))\n",
    "\t\t\t\tvisited[n]=1\n",
    "\n",
    "time_start=time.time()\n",
    "t = int(input())\n",
    "\n",
    "for _ in range(t):\n",
    "\tprint(solve())\n",
    "\n",
    "\n",
    "time_end=time.time()\n",
    "# print('time cost',time_end-time_start,'s')\n"
   ]
  },
  {
   "cell_type": "markdown",
   "metadata": {},
   "source": [
    "Another implementation"
   ]
  },
  {
   "cell_type": "code",
   "execution_count": null,
   "metadata": {},
   "outputs": [],
   "source": [
    "d = [[]for i in range(9)]\n",
    "for i in range(9):\n",
    "    x = i//3\n",
    "    y = i%3\n",
    "    for j in range(9):\n",
    "        xx = j//3\n",
    "        yy = j%3\n",
    "        if abs(xx-x) + abs(yy-y) <= 1:\n",
    "            d[i].append(j)\n",
    "T = int(input())\n",
    "for _ in range(T):\n",
    "    s = input() + input() + input()\n",
    "    t = ''.join(['H'*9])\n",
    "    q = [(s,0)]\n",
    "    mp = dict(q)\n",
    "    while t not in mp:\n",
    "        cur,cost = q.pop(0)\n",
    "        for i in range(9):\n",
    "            nx = list(cur)\n",
    "            for j in d[i]:\n",
    "                if nx[j] == 'T':\n",
    "                    nx[j] = 'H'\n",
    "                else: nx[j] = 'T'\n",
    "            nx = ''.join(nx)\n",
    "            if nx not in mp:\n",
    "                q.append((nx,cost+1))\n",
    "                mp[nx] = cost + 1\n",
    "    print(mp[t])\n"
   ]
  }
 ],
 "metadata": {
  "kernelspec": {
   "display_name": "Python 3",
   "language": "python",
   "name": "python3"
  },
  "language_info": {
   "codemirror_mode": {
    "name": "ipython",
    "version": 3
   },
   "file_extension": ".py",
   "mimetype": "text/x-python",
   "name": "python",
   "nbconvert_exporter": "python",
   "pygments_lexer": "ipython3",
   "version": "3.7.6"
  }
 },
 "nbformat": 4,
 "nbformat_minor": 4
}

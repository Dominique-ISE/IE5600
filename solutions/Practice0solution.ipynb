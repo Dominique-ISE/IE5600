{
 "cells": [
  {
   "cell_type": "markdown",
   "metadata": {},
   "source": [
    "## p1"
   ]
  },
  {
   "cell_type": "code",
   "execution_count": null,
   "metadata": {},
   "outputs": [
    {
     "name": "stdout",
     "output_type": "stream",
     "text": [
      "/home/ta/work/Solutions/Practice\n"
     ]
    }
   ],
   "source": [
    "import os\n",
    "print(os.getcwd())\n",
    "\n",
    "a = input().strip()\n",
    "b = input().strip()\n",
    "\n",
    "print(str(a) + str(b))\n",
    "print(int(a) + int(b))\n",
    "\n"
   ]
  },
  {
   "cell_type": "markdown",
   "metadata": {},
   "source": [
    "## p6"
   ]
  },
  {
   "cell_type": "code",
   "execution_count": null,
   "metadata": {},
   "outputs": [],
   "source": [
    "A = '     * '\n",
    "B = '****** '\n",
    "C = '*    * '\n",
    "E = '     *'\n",
    "F = '******'\n",
    "\n",
    "D=print(A,B,B,F+'\\n'+A,C,C,E+'\\n'+A,C,C,E+'\\n'+A,C,C,F+'\\n'+A,C,C,E+'\\n'+A,C,C,E+'\\n'+A,B,B,F)\n"
   ]
  }
 ],
 "metadata": {
  "kernelspec": {
   "display_name": "Python 3",
   "language": "python",
   "name": "python3"
  },
  "language_info": {
   "codemirror_mode": {
    "name": "ipython",
    "version": 3
   },
   "file_extension": ".py",
   "mimetype": "text/x-python",
   "name": "python",
   "nbconvert_exporter": "python",
   "pygments_lexer": "ipython3",
   "version": "3.7.6"
  }
 },
 "nbformat": 4,
 "nbformat_minor": 4
}

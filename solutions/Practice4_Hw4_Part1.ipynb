{
 "cells": [
  {
   "cell_type": "markdown",
   "metadata": {},
   "source": [
    "## Contigous Subsequence Maximum Sum\n",
    "Let $dp[i]$ store the maximum sum of all contigous subsequence that end at $i$. \n",
    "\n",
    "It is easy to observe that $dp[i] = a[i]+max(dp[i-1],0)$\n",
    "\n",
    "The answer would be $max(dp)$"
   ]
  },
  {
   "cell_type": "markdown",
   "metadata": {},
   "source": [
    "## Optimal Sequence of Hotels\n",
    "Let $dp[i]$ be the optimal cost that end at hotel $i$. \n",
    "\n",
    "To obtain $dp[i]$, iterate the feasible index $j$ that $a[j]$ is at most 200 distance from $a[i]$ and update from $dp[j]$ to $dp[i]$. \n",
    "\n",
    "The answer would be $dp[n]$.\n",
    "\n",
    "Do cut off the iteration and do it in $O(200n)$ instead of $O(n^2)$ since at most 200 index are feasible for $j$. "
   ]
  },
  {
   "cell_type": "markdown",
   "metadata": {},
   "source": [
    "## YuckDonalds\n",
    "Let $dp[i]$ be the optimal value for all solution that the last restaurant is $i$. \n",
    "\n",
    "For any $j<i$, the transition can be considered if $m[j]+k<=m[i]$. \n",
    "\n",
    "Therefore, $dp[i] = \\max\\limits_{j<i,m[j]+k<=m[i]}dp[j]+p[i]$\n",
    "\n",
    "The answer would be $dp[n]$"
   ]
  },
  {
   "cell_type": "markdown",
   "metadata": {},
   "source": [
    "## Reconstituting Words\n",
    "Let $dp[i] = True$ if $s[:i]$ can be reconstructed with the words in the dictionary.\n",
    "\n",
    "Then $dp[i] = \\bigvee\\limits_{0 \\leq j<i} (dp[j] \\wedge dict(s[j:i]))$\n",
    "\n",
    "The answer is $dp[n]$. \n"
   ]
  },
  {
   "cell_type": "markdown",
   "metadata": {},
   "source": [
    "## Pebbling a Checker Board\n",
    "\n",
    "Let pattern $P = \\{0000,1000,0100,0010,0001,0101,1001,1010 \\}$ which contains all possible patterns in a single column. \n",
    "\n",
    "Define $dp[i][p]$ to be the optimal answer that first $i$ column are filled and the $i$-th column is in pattern $p\\in P$. \n",
    "\n",
    "Then $dp[i][p] = \\max\\limits_{q\\in P, q\\&p==0} dp[i-1][q] + sum[i][p]$ where $sum[i][p]$ is the sum of value covered by pebbles in pattern $p$. \n",
    "\n",
    "The answer would be $\\max\\limits_{p \\in P} dp[n][p]$\n",
    "\n",
    "Remark that for transition based on pattern, it can be hard-coded, or be represented with a binary number. If binary number is used, it is easy to check compatibility by simply use $\\&$ operator. \n",
    "\n"
   ]
  },
  {
   "cell_type": "markdown",
   "metadata": {},
   "source": [
    "## Multiplication Operation\n",
    "Let $dp[i][j][ch] = True$ if $s[i:j]$ can end up as a single character $ch \\in \\{'a','b','c'\\}$. \n",
    "\n",
    "This $dp$ state can be computed by iterate the divide position $k$ and possible character for the first part and second part. \n",
    "\n",
    "That is, when iterate at $k$,$ch_1$,$ch_2$, we check feasibility at $dp[i][k][ch_1]\\wedge dp[k][j][ch_2]$ and update $dp[i][j][mt[ch_1][ch_2]]$ accordingly, where $mt$ is the multiplication table. "
   ]
  },
  {
   "cell_type": "markdown",
   "metadata": {},
   "source": [
    "## Palindrome\n",
    "\n",
    "It is easy to see that $s[i:j]$ is a palindrome if and only if $s[i]==s[j-1]$ and $s[i+1:j-1]$ is a palindrome also. Remark that a single string and empty string is a palindrome. \n",
    "\n",
    "Therefore, let $dp[i][j] = True$ iff $s[i:j]$ is a palindrome. \n",
    "\n",
    "The answer is $dp[0][n]$. "
   ]
  },
  {
   "cell_type": "markdown",
   "metadata": {},
   "source": [
    "## Longest Common Substring\n",
    "\n",
    "Let $dp[i][j]$ stores the largest $k$ such that $s[i-k:i] = t[j-k:j]$. $dp[i][j] = 0$ if $s[i] \\neq t[j]$, otherwise $dp[i][j] = dp[i-1][j-1]+1$. \n",
    "\n",
    "This $dp$ table can be computed in $O(n^2)$. \n",
    "\n"
   ]
  },
  {
   "cell_type": "markdown",
   "metadata": {},
   "source": [
    "## String Processing\n",
    "We may firstly insert a $0$ at the front of $c$ and $n$ at the end of $c$. \n",
    "\n",
    "Let $dp[i][j]$ be the optimal cost to cut the string $s[c[i]:c[j]]$\n",
    "\n",
    "To compute $dp[i][j]$, enumerate the possible cut point $k$ in the middle and identify the minimum cost.\n"
   ]
  },
  {
   "cell_type": "markdown",
   "metadata": {},
   "source": [
    "## Counting Head\n",
    "Let $dp[i][j]$ be the probability that first $i$ coin are tossed and $j$ coin comes up heads.\n",
    "\n",
    "Clearly $dp[i][j] = \\frac{p[i]}{10}dp[i-1][j-1]+(1-\\frac{p[i]}{10})dp[i-1][j]$\n",
    "\n",
    "Then it is easy to see that $dp[i][j]\\cdot 10^i = p[i]dp[i-1][j-1]\\cdot 10^{i-1}+(10-p[i])dp[i-1][j]\\cdot 10^{i-1}$. \n",
    "\n",
    "And the answers are $dp[n][k]\\cdot 10^n$ for $k$ from $0$ to $n$. "
   ]
  },
  {
   "cell_type": "markdown",
   "metadata": {},
   "source": [
    "## Longest Common Subsequence\n",
    "\n",
    "Let $dp[i][j]$ denote the length of longest common subsequence in $s[:i]$ and $t[:j]$ \n",
    "\n",
    "Then:\n",
    "\n",
    "$dp[i][j] = \\begin{cases}\n",
    "dp[i-1][j-1]+1, & s[i-1]=t[j-1]\\\\\n",
    "max(dp[i-1][j],dp[i][j-1]),& otherwise\n",
    "\\end{cases}$\n",
    "\n",
    "Do take care of the boundary cases. \n"
   ]
  },
  {
   "cell_type": "markdown",
   "metadata": {},
   "source": [
    "## Triangulation of Minimum Cost\n",
    "Let $dp[i][j]$ be the cost to triangulate the polygon $p[i],p[i+1],\\dots,p[j]$. \n",
    "\n",
    "The answer is $dp[0][n-1]$.\n",
    "\n",
    "We can know that the edge $p[i]--p[j]$ must be in some triangle $p[i]--p[j]--p[k],k \\in \\{i+1,i+2,\\dots,j-1\\}$ in the end with triangulation cost $dp[i][k]+dp[k][j]+cost(p[i]--p[k])+cost(p[j]--p[k])$. Therefore, we can enumerate this $k$ to identify the minimum cost based on dynamic programming principle. \n",
    "\n",
    "Do take care of the base and boundary case in transition. \n"
   ]
  },
  {
   "cell_type": "markdown",
   "metadata": {},
   "source": [
    "## Card Collection\n",
    "\n",
    "Let $dp[i][j]$ be the maximum score that the first player obtained if the game start at $s[i:j]$.\n",
    "\n",
    "Then $dp[i][j] = \\max(s[i]+sum[i+1][j]-dp[i+1][j],s[j-1]+sum[i][j-1]-dp[i][j-1])$ where $sum[i][j]$ is $sum(s[i:j])$. The rationale behind is that the player calculated the outcome of the two decision he can made and choose the best one. "
   ]
  },
  {
   "cell_type": "markdown",
   "metadata": {},
   "source": [
    "## Cutting Cloth\n",
    "\n",
    "Let $dp[i][j]$ be the maximum profit that can be made with size of cloth to be $(i,j)$. The answer would be $dp[X][Y]$. \n",
    "\n",
    "At size $(i,j)$, there are multiple decision that can be made:\n",
    "\n",
    "1. Cut the cloth to some piece $(a_i,b_i,c_i)$ for $i \\in [1,n]$ and receive profit $c_i$. \n",
    "\n",
    "2. Divide the cloth into two of size $(k,j)$ and $(i-k,j)$ for some $k$.\n",
    "\n",
    "3. Divide the cloth into two of size $(i,k)$ and $(i,j-k)$ for some $k$.\n",
    "\n",
    "Enumerate all possible decision to obtain the best choice. "
   ]
  },
  {
   "cell_type": "code",
   "execution_count": null,
   "metadata": {},
   "outputs": [],
   "source": []
  }
 ],
 "metadata": {
  "kernelspec": {
   "display_name": "Python 3",
   "language": "python",
   "name": "python3"
  },
  "language_info": {
   "codemirror_mode": {
    "name": "ipython",
    "version": 3
   },
   "file_extension": ".py",
   "mimetype": "text/x-python",
   "name": "python",
   "nbconvert_exporter": "python",
   "pygments_lexer": "ipython3",
   "version": "3.7.6"
  }
 },
 "nbformat": 4,
 "nbformat_minor": 4
}

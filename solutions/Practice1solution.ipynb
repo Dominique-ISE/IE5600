{
 "cells": [
  {
   "cell_type": "markdown",
   "metadata": {},
   "source": [
    "## p136"
   ]
  },
  {
   "cell_type": "code",
   "execution_count": 1,
   "metadata": {},
   "outputs": [
    {
     "name": "stdin",
     "output_type": "stream",
     "text": [
      " asd\n"
     ]
    },
    {
     "name": "stdout",
     "output_type": "stream",
     "text": [
      "3\n"
     ]
    }
   ],
   "source": [
    "#By Gu Ruixue\n",
    "def lengthOfLongestSubstring(s):\n",
    "    if s == '':\n",
    "        return 0\n",
    "    a = []\n",
    "    for i in range(0, len(s)):\n",
    "        tmp = s[i]\n",
    "        for j in range(i + 1, len(s)):\n",
    "            if s[j] in tmp:\n",
    "                break\n",
    "            else:\n",
    "                tmp = tmp + s[j]\n",
    "        a.append(len(tmp))\n",
    "    return max(a)\n",
    "s=input()\n",
    "print(lengthOfLongestSubstring(s))"
   ]
  },
  {
   "cell_type": "markdown",
   "metadata": {},
   "source": [
    "## p138"
   ]
  },
  {
   "cell_type": "code",
   "execution_count": 2,
   "metadata": {},
   "outputs": [
    {
     "name": "stdin",
     "output_type": "stream",
     "text": [
      " X\n"
     ]
    },
    {
     "name": "stdout",
     "output_type": "stream",
     "text": [
      "10\n"
     ]
    }
   ],
   "source": [
    "#By EOW CHENG ZHENG\n",
    "def f(s):\n",
    "    roman = {'I': 1, 'V': 5, 'X': 10, 'L': 50, 'C': 100, 'D': 500, 'M': 1000, 'IV': 4, 'IX': 9, 'XL': 40, 'XC': 90,\n",
    "             'CD': 400, 'CM': 900}\n",
    "    number = 0\n",
    "    i = 0\n",
    "    n = len(s)\n",
    "    while i < n:\n",
    "        if s[i:i+2] in roman:\n",
    "            number += roman[s[i:i+2]]\n",
    "            i += 2\n",
    "        else:\n",
    "            number += roman[s[i]]\n",
    "            i += 1\n",
    "    return number\n",
    "\n",
    "print(f(input()))\n"
   ]
  },
  {
   "cell_type": "markdown",
   "metadata": {},
   "source": [
    "## p139"
   ]
  },
  {
   "cell_type": "code",
   "execution_count": null,
   "metadata": {},
   "outputs": [],
   "source": [
    "#By TEOH CHUNG LIM\n",
    "def valid_paren(input_str):\n",
    "  # Declaraing a stack.\n",
    "  stack = []\n",
    "  # Iterating over the entire string\n",
    "  for paren in input_str:\n",
    "    # If the input string contains an opening parenthesis,\n",
    "    # push in on to the stack.\n",
    "    if paren == '(' or paren == '[' or paren == '{':\n",
    "      stack.append(paren)\n",
    "    else:\n",
    "      # In the case of valid parentheses, the stack cannot be \n",
    "      # be empty if a closing parenthesis is encountered.\n",
    "      if not stack:\n",
    "        print(\"False\")\n",
    "        return\n",
    "      else:\n",
    "        # If the input string contains a closing bracket,\n",
    "        # then pop the corresponding opening parenthesis if\n",
    "        # present.\n",
    "        top = stack[-1]\n",
    "        if paren == ')' and top == '(' or \\\n",
    "        paren == ']' and top == '[' or \\\n",
    "        paren == '}' and top == '{':\n",
    "          stack.pop()\n",
    "  # Checking the status of the stack to determine the\n",
    "  # validity of the string.\n",
    "  if not stack:\n",
    "    print(\"True\")\n",
    "  else:\n",
    "    print(\"False\")\n",
    "\n",
    "valid_paren(input())"
   ]
  },
  {
   "cell_type": "markdown",
   "metadata": {},
   "source": [
    "## p140"
   ]
  },
  {
   "cell_type": "code",
   "execution_count": 2,
   "metadata": {},
   "outputs": [
    {
     "name": "stdin",
     "output_type": "stream",
     "text": [
      " asd\n"
     ]
    },
    {
     "ename": "ValueError",
     "evalue": "invalid literal for int() with base 10: 'asd'",
     "output_type": "error",
     "traceback": [
      "\u001b[0;31m---------------------------------------------------------------------------\u001b[0m",
      "\u001b[0;31mValueError\u001b[0m                                Traceback (most recent call last)",
      "\u001b[0;32m<ipython-input-2-da19049434fa>\u001b[0m in \u001b[0;36m<module>\u001b[0;34m\u001b[0m\n\u001b[1;32m     17\u001b[0m     \u001b[0mres\u001b[0m \u001b[0;34m+=\u001b[0m \u001b[0mstr\u001b[0m\u001b[0;34m(\u001b[0m\u001b[0mcount\u001b[0m\u001b[0;34m)\u001b[0m \u001b[0;34m+\u001b[0m \u001b[0mn\u001b[0m\u001b[0;34m[\u001b[0m\u001b[0mi\u001b[0m\u001b[0;34m]\u001b[0m\u001b[0;34m\u001b[0m\u001b[0;34m\u001b[0m\u001b[0m\n\u001b[1;32m     18\u001b[0m     \u001b[0;32mreturn\u001b[0m \u001b[0mres\u001b[0m\u001b[0;34m\u001b[0m\u001b[0;34m\u001b[0m\u001b[0m\n\u001b[0;32m---> 19\u001b[0;31m \u001b[0mprint\u001b[0m\u001b[0;34m(\u001b[0m\u001b[0mcountAndSay\u001b[0m\u001b[0;34m(\u001b[0m\u001b[0mint\u001b[0m\u001b[0;34m(\u001b[0m\u001b[0minput\u001b[0m\u001b[0;34m(\u001b[0m\u001b[0;34m)\u001b[0m\u001b[0;34m)\u001b[0m\u001b[0;34m)\u001b[0m\u001b[0;34m)\u001b[0m\u001b[0;34m\u001b[0m\u001b[0;34m\u001b[0m\u001b[0m\n\u001b[0m",
      "\u001b[0;31mValueError\u001b[0m: invalid literal for int() with base 10: 'asd'"
     ]
    }
   ],
   "source": [
    "# By TANG CHOR THENG \n",
    "def countAndSay(n):\n",
    "    res = \"1\"\n",
    "    for _ in range(n-1):\n",
    "        res = helper(res)\n",
    "    return res\n",
    "    \n",
    "def helper(n):\n",
    "    count, i, res = 1, 0, \"\"\n",
    "    while i < len(n) - 1:\n",
    "        if n[i] == n[i+1]:\n",
    "            count += 1\n",
    "        else:\n",
    "            res += str(count) + n[i]\n",
    "            count = 1\n",
    "        i += 1\n",
    "    res += str(count) + n[i]\n",
    "    return res\n",
    "print(countAndSay(int(input())))"
   ]
  },
  {
   "cell_type": "markdown",
   "metadata": {},
   "source": [
    "## p141"
   ]
  },
  {
   "cell_type": "markdown",
   "metadata": {},
   "source": [
    "# TOH HAN WEI\n",
    "s=str(input())\n",
    "s = s.split()\n",
    "\n",
    "if len(s) == 0:\n",
    "    print(0)\n",
    "else:\n",
    "    lastword = s[len(s)-1]\n",
    "    ans=0\n",
    "    for i in lastword:\n",
    "        ans +=1\n",
    "    print(ans)"
   ]
  },
  {
   "cell_type": "markdown",
   "metadata": {},
   "source": [
    "## p142"
   ]
  },
  {
   "cell_type": "code",
   "execution_count": null,
   "metadata": {},
   "outputs": [],
   "source": [
    "#By JIN YEYING\n",
    "a = input(\"\")\n",
    "b = input(\"\")\n",
    "sumInt = int(a, 2) + int(b, 2)\n",
    "sumBin = bin(sumInt)  # string starts with '0b'\n",
    "print(sumBin[2:])"
   ]
  },
  {
   "cell_type": "markdown",
   "metadata": {},
   "source": [
    "## p143"
   ]
  },
  {
   "cell_type": "code",
   "execution_count": null,
   "metadata": {},
   "outputs": [],
   "source": [
    "#By KWOK JEFFERY\n",
    "A = str(input().strip())\n",
    "B = str(input().strip())\n",
    "answer = \"\"\n",
    "\n",
    "#make sure both arrays are equal length first\n",
    "if len(A)>len(B):\n",
    "    diff_len = len(A) - len(B)\n",
    "    for i in range (diff_len):\n",
    "        B = \"0\"+ B\n",
    "\n",
    "if len(B)>len(A):\n",
    "    diff_len = len(B) - len(A)\n",
    "    for i in range (diff_len):\n",
    "        A = \"0\"+ A\n",
    "\n",
    "carry = 0\n",
    "\n",
    "for i in range (len(A)-1, -1, -1):\n",
    "    c = int(A[i]) + int(B[i]) + carry\n",
    "\n",
    "    if c <= 10:\n",
    "        carry = 0\n",
    "\n",
    "    if c >= 10:\n",
    "        c = c % 10\n",
    "        carry = 1\n",
    "\n",
    "    answer = str(c) + answer\n",
    "\n",
    "if carry == 1:\n",
    "    answer = str(carry) + answer\n",
    "\n",
    "print(answer)\n",
    "\n"
   ]
  },
  {
   "cell_type": "markdown",
   "metadata": {},
   "source": [
    "## p144"
   ]
  },
  {
   "cell_type": "code",
   "execution_count": null,
   "metadata": {},
   "outputs": [],
   "source": [
    "#By LIM WEI YANG, DYLAN \n",
    "s = input()\n",
    "print(len(s.split()))"
   ]
  },
  {
   "cell_type": "markdown",
   "metadata": {},
   "source": [
    "## p145"
   ]
  },
  {
   "cell_type": "code",
   "execution_count": null,
   "metadata": {},
   "outputs": [],
   "source": [
    "#By TAN RAYEN\n",
    "string = input()\n",
    "\n",
    "if (string.islower() or string.isupper()):\n",
    "    print(True)\n",
    "elif string[0].isupper() and string[1:].islower():\n",
    "    print(True)\n",
    "else:\n",
    "    print(False)"
   ]
  },
  {
   "cell_type": "markdown",
   "metadata": {},
   "source": [
    "## p146"
   ]
  },
  {
   "cell_type": "code",
   "execution_count": null,
   "metadata": {},
   "outputs": [],
   "source": [
    "#By FANG LIPING\n",
    "\n",
    "str1=input()\n",
    "str2=input()\n",
    "\n",
    "if str1 == str2:\n",
    "    print(\"-1\")\n",
    "else:\n",
    "    print(max(len(str1),len(str2)))"
   ]
  },
  {
   "cell_type": "markdown",
   "metadata": {},
   "source": [
    "## p147"
   ]
  },
  {
   "cell_type": "code",
   "execution_count": null,
   "metadata": {},
   "outputs": [],
   "source": [
    "#By LEOW WEE SHENT JORDON\n",
    "def split(word):\n",
    "    return list(word)\n",
    "\n",
    "\n",
    "s = str(input())\n",
    "k = int(input())\n",
    "s = split(s)\n",
    "\n",
    "\n",
    "for index in range(0, len(s), 2*k):\n",
    "    s[index:index+k] = s[index:index+k][::-1]\n",
    "\n",
    "print(''.join(s))"
   ]
  },
  {
   "cell_type": "markdown",
   "metadata": {},
   "source": [
    "## p148"
   ]
  },
  {
   "cell_type": "code",
   "execution_count": null,
   "metadata": {},
   "outputs": [],
   "source": [
    "#By Wu Tong\n",
    "a=input()\n",
    "if a.count('A') <=1 and 'LLL' not in a:\n",
    "    print(True)\n",
    "else:\n",
    "    print(False)"
   ]
  },
  {
   "cell_type": "markdown",
   "metadata": {},
   "source": [
    "## p149"
   ]
  },
  {
   "cell_type": "code",
   "execution_count": null,
   "metadata": {},
   "outputs": [],
   "source": [
    "#By DU YUNQIN \n",
    "def reverseWords(s):\n",
    "    return ' '.join(s.split(' ')[::-1])[::-1]\n",
    "s=input()\n",
    "print(reverseWords(s))"
   ]
  },
  {
   "cell_type": "markdown",
   "metadata": {},
   "source": [
    "## p150"
   ]
  },
  {
   "cell_type": "code",
   "execution_count": null,
   "metadata": {},
   "outputs": [],
   "source": [
    "#By Zhao Jingyi\n",
    "\n",
    "a = input()\n",
    "ans = \"\"\n",
    "for i in range(len(a)):\n",
    "    if(a[i] != 'a' and a[i] != 'e' and a[i] != 'i' and a[i] != 'o' and a[i] != 'u' ):\n",
    "        ans += a[i]\n",
    "print(ans)"
   ]
  },
  {
   "cell_type": "markdown",
   "metadata": {},
   "source": [
    "## p151"
   ]
  },
  {
   "cell_type": "code",
   "execution_count": null,
   "metadata": {},
   "outputs": [],
   "source": [
    "#By CHIN KAR KAY\n",
    "def dinstinctSubstring(s):\n",
    "    \n",
    "    count=0\n",
    "    \n",
    "    for i in range(len(s)):\n",
    "        if i==0:\n",
    "           count=1\n",
    "           sum=count\n",
    "        else:\n",
    "           if s[i]==s[i-1]:\n",
    "               count+=1\n",
    "               sum+=count\n",
    "           else:\n",
    "               count=1\n",
    "               sum+=count\n",
    "    return sum\n",
    "    \n",
    "s=input()\n",
    "print(dinstinctSubstring(s))"
   ]
  },
  {
   "cell_type": "markdown",
   "metadata": {},
   "source": [
    "## p152"
   ]
  },
  {
   "cell_type": "code",
   "execution_count": null,
   "metadata": {},
   "outputs": [],
   "source": [
    "#By WONG JIA JIN\n",
    "s = input()\n",
    "\n",
    "check = {'L':0,'R':0}\n",
    "\n",
    "num = 0\n",
    "\n",
    "for i in s:\n",
    "    check[i] += 1\n",
    "    if check['L'] == check['R']:\n",
    "        num += 1\n",
    "        check['L'] = check['R'] = 0\n",
    "\n",
    "print(num)"
   ]
  },
  {
   "cell_type": "markdown",
   "metadata": {},
   "source": [
    "## p153"
   ]
  },
  {
   "cell_type": "code",
   "execution_count": null,
   "metadata": {},
   "outputs": [],
   "source": [
    "#By HUO TIANMING\n",
    "string = input()\n",
    "count = 0\n",
    "\n",
    "for i in range(len(string)):\n",
    "    if string[i]!=string[len(string)-1-i]:\n",
    "        count += 1\n",
    "\n",
    "if string =='':\n",
    "    print('0')\n",
    "elif count == 0:\n",
    "    print('1')\n",
    "else:\n",
    "    print('2')"
   ]
  },
  {
   "cell_type": "markdown",
   "metadata": {},
   "source": [
    "## p154"
   ]
  },
  {
   "cell_type": "code",
   "execution_count": null,
   "metadata": {},
   "outputs": [],
   "source": [
    "#By WANG XIN\n",
    "\n",
    "s = str(input())\n",
    "r = ''\n",
    "while (len(s) > 0):\n",
    "    minid1 = min(s)\n",
    "    temp_string = s.replace(minid1, '')\n",
    "    pos = s.index(minid1)\n",
    "    r = r + minid1\n",
    "    s = s[0:pos] + s[pos+1:]\n",
    "    while ((len(s) > 0) and (len(temp_string) > 0)):\n",
    "        minid1 = min(temp_string)\n",
    "        pos = s.index(minid1)\n",
    "        r = r + minid1\n",
    "        s = s[:pos] + s[pos+1:]\n",
    "        temp_string = temp_string.replace(minid1, '')\n",
    "    if(len(s) == 0):\n",
    "        break\n",
    "    minid1 = max(s)\n",
    "    pos = s.index(minid1)\n",
    "    r = r + minid1\n",
    "    s = s[0:pos] + s[pos+1:]\n",
    "    temp_string = s.replace(minid1, '')\n",
    "    while (len(s) > 0 and len(temp_string) > 0):\n",
    "        minid1 = max(temp_string)\n",
    "        pos = s.index(minid1)\n",
    "        r = r + minid1\n",
    "        s = s[:pos] + s[pos+1:]\n",
    "        temp_string = temp_string.replace(minid1, '')\n",
    "print(r)\n",
    "    \n",
    "    "
   ]
  },
  {
   "cell_type": "markdown",
   "metadata": {},
   "source": [
    "## p155"
   ]
  },
  {
   "cell_type": "code",
   "execution_count": null,
   "metadata": {},
   "outputs": [],
   "source": [
    "#By GU RUIXUE\n",
    "\n",
    "str=input()\n",
    "def maxPower(s):\n",
    "    if s == '':\n",
    "        return 0\n",
    "    a = []\n",
    "    for i in range(0, len(s)):\n",
    "        tmp = s[i]\n",
    "        for j in range(i + 1, len(s)):\n",
    "            if s[j] in tmp:\n",
    "                tmp = tmp + s[j]\n",
    "            else:\n",
    "                break\n",
    "        a.append(len(tmp))\n",
    "    return max(a)\n",
    "print(maxPower(str))\n"
   ]
  }
 ],
 "metadata": {
  "kernelspec": {
   "display_name": "Python 3",
   "language": "python",
   "name": "python3"
  },
  "language_info": {
   "codemirror_mode": {
    "name": "ipython",
    "version": 3
   },
   "file_extension": ".py",
   "mimetype": "text/x-python",
   "name": "python",
   "nbconvert_exporter": "python",
   "pygments_lexer": "ipython3",
   "version": "3.7.6"
  }
 },
 "nbformat": 4,
 "nbformat_minor": 4
}

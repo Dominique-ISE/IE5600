{
 "cells": [
  {
   "cell_type": "markdown",
   "metadata": {},
   "source": [
    "## p105"
   ]
  },
  {
   "cell_type": "code",
   "execution_count": null,
   "metadata": {},
   "outputs": [],
   "source": [
    "#The sample solution use regular expression to match the parameters\n",
    "#This can also be done by basic coding\n",
    "\n",
    "import re\n",
    "\n",
    "x = list(map(int,input().split()))\n",
    "n = int(input())\n",
    "\n",
    "for i in range(n):\n",
    "    \n",
    "    a = input()\n",
    "    \n",
    "    result = re.match(\"^(?P<hour>[0-9]+)[:](?P<minute>[0-9]+)[:](?P<second>[0-9]+)$\", a)\n",
    "    \n",
    "    print((int(result.group(\"hour\"))*x[1]+int(result.group(\"minute\")))*x[2]+int(result.group(\"second\")))\n",
    "\n",
    "\n"
   ]
  },
  {
   "cell_type": "markdown",
   "metadata": {},
   "source": [
    "## p106"
   ]
  },
  {
   "cell_type": "code",
   "execution_count": null,
   "metadata": {},
   "outputs": [],
   "source": [
    "n,g,x,y,T = map(int,input().split())\n",
    "x-=1\n",
    "y-=1\n",
    "t = list(map(int,input().split()))\n",
    "t = [0]+t;\n",
    "for i in range(1,n):\n",
    "    t[i]+=t[i-1]\n",
    "\n",
    "T -= t[x] \n",
    "if T<=0: T = 0\n",
    "else: \n",
    "    T = (T-1)//g+1\n",
    "    T = T*g\n",
    "\n",
    "T+=t[y] \n",
    "\n",
    "print(T)         "
   ]
  },
  {
   "cell_type": "markdown",
   "metadata": {},
   "source": [
    "## p107"
   ]
  },
  {
   "cell_type": "code",
   "execution_count": null,
   "metadata": {},
   "outputs": [],
   "source": [
    "n = int(input())\n",
    "a = list(map(int,input().split()))\n",
    "print(a[0])\n",
    "for i in range(1,n):\n",
    "\tprint(a[i]-a[i-1])"
   ]
  },
  {
   "cell_type": "markdown",
   "metadata": {},
   "source": [
    "## p109"
   ]
  },
  {
   "cell_type": "code",
   "execution_count": null,
   "metadata": {},
   "outputs": [],
   "source": [
    "n,k = map(int,input().split())\n",
    "\n",
    "a = []\n",
    "for i in range(n):\n",
    "    x,y = map(int,input().split())\n",
    "    a.append(x*x+y*y)\n",
    "a.sort()\n",
    "\n",
    "k-=1\n",
    "print(a[k])"
   ]
  },
  {
   "cell_type": "markdown",
   "metadata": {},
   "source": [
    "## p111"
   ]
  },
  {
   "cell_type": "code",
   "execution_count": null,
   "metadata": {},
   "outputs": [],
   "source": [
    "n = int(input())\n",
    "\n",
    "a = list(map(int,input().split()))\n",
    "b = list(map(int,input().split()))\n",
    "\n",
    "ans = 0\n",
    "for i in range(n):\n",
    "    ans+=a[i]/b[i]\n",
    "    \n",
    "print(ans)"
   ]
  },
  {
   "cell_type": "markdown",
   "metadata": {},
   "source": [
    "## p112"
   ]
  },
  {
   "cell_type": "code",
   "execution_count": null,
   "metadata": {},
   "outputs": [],
   "source": [
    "a = input()\n",
    "b = input()\n",
    "c = input()\n",
    "print(a+b)\n",
    "print(a[0:2]+b[0:2]+c[::-1])"
   ]
  },
  {
   "cell_type": "markdown",
   "metadata": {},
   "source": [
    "## p115"
   ]
  },
  {
   "cell_type": "code",
   "execution_count": null,
   "metadata": {},
   "outputs": [],
   "source": [
    "\n",
    "n,m = map(int,input().split())\n",
    "a = []\n",
    "if m!=0: a = list(map(int,input().split()))\n",
    "\n",
    "b = [1 for i in range(n+1)]\n",
    "cnt = n \n",
    "\n",
    "for i in range(m):\n",
    "    if b[a[i]]==1:\n",
    "        b[a[i]] = 0\n",
    "        cnt-=1\n",
    "\n",
    "for i in range(1,n+1):\n",
    "    if b[i]==1:\n",
    "        print(i)\n",
    "\n",
    "if cnt==0:\n",
    "    print(0)\n"
   ]
  },
  {
   "cell_type": "markdown",
   "metadata": {},
   "source": [
    "## p118"
   ]
  },
  {
   "cell_type": "code",
   "execution_count": null,
   "metadata": {},
   "outputs": [],
   "source": [
    "n = int(input())\n",
    "a = list(map(int,input().split()))\n",
    "a.sort()\n",
    "a = [0]+a\n",
    "q = int(input())\n",
    "for i in range(q):\n",
    "    g = int(input())\n",
    "    ans = 0\n",
    "    for j in range(1,n+1):\n",
    "        if a[j]-a[j-1]<=g:\n",
    "            ans = a[j]\n",
    "        else:\n",
    "            break\n",
    "    print(ans)"
   ]
  }
 ],
 "metadata": {
  "kernelspec": {
   "display_name": "Python 3",
   "language": "python",
   "name": "python3"
  },
  "language_info": {
   "codemirror_mode": {
    "name": "ipython",
    "version": 3
   },
   "file_extension": ".py",
   "mimetype": "text/x-python",
   "name": "python",
   "nbconvert_exporter": "python",
   "pygments_lexer": "ipython3",
   "version": "3.7.6"
  }
 },
 "nbformat": 4,
 "nbformat_minor": 4
}

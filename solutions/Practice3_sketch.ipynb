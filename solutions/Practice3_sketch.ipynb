{
 "cells": [
  {
   "cell_type": "markdown",
   "metadata": {},
   "source": [
    "## P187\n",
    "\n",
    "Firstly sort the interval based on the left end, then the right end, from small to large. Then go through the list.\n",
    "\n",
    "During the iteration, keep track the interval that is kept rightmost, noted as $u$. When iterate at the next interval, if it does not intersect with the $u$, keep it and upadte $u$ to this interval. Otherwise, check which interval's right end is smaller due to greedy policy, since picking smaller right end may improve the decision made for the rest intervals. Then update $u$ correspondingly and increase the answer by 1 since we delete one of these two intervals. \n"
   ]
  },
  {
   "cell_type": "markdown",
   "metadata": {},
   "source": [
    "## P188\n",
    "\n",
    "The problem is equivalent to select minimum number of points such that each interval contains at least one point. \n",
    "\n",
    "Think of any optimal solution, we can always move the point to the right end of some interval. Therefore, we only need to consider positioning a point at right end of some interval. \n",
    "\n",
    "Sort the intervals based on the right end, then the left end, from small to large. We can see that the first point must be placed at the right end of the first interval, otherwise the first interval cannot be covered. After place the first point, we may erase the interval that is covered, and iteratively find optimal decision for the rest of the intervals, until all intervals are erased. \n",
    "\n",
    "Therefore, a primitive implementation can be a simulation of the above proccess. An improved version solve the problem in $O(n \\log n)$ without explicitly erase the intervals from the list. "
   ]
  },
  {
   "cell_type": "markdown",
   "metadata": {},
   "source": [
    "## P189\n",
    "\n",
    "A greedy solution would be always try to assign the cookie to largest possible child. Therefore, we can iterate though the cookies, find the largest possible child that can be served by the cookie, erase the child and increase the answer by 1, or omit this cookie if it cannot serve any of the remaining child. \n",
    "\n",
    "To efficiently simulate the process above, one may sort the two list first, and iterate the cookie from large to small.\n"
   ]
  },
  {
   "cell_type": "markdown",
   "metadata": {},
   "source": [
    "## P190\n",
    "\n",
    "Think of the senators sitting in a circle, so the round-based process is basicly looping this circle. \n",
    "\n",
    "It is easy to observe that the senator will always ban the opposite senator that is after him.\n",
    "\n",
    "Therefore, we may iterate each senator, find the next opposite senator, and erase it from the circle. \n",
    "\n",
    "A more efficienct way would be using two queues to store the position of the senators in each team. As long as both two queues are not empty, pop the first senator in each queue and compare their positions. Drop the one with smaller position and push the remaining one to the corresponding queue. Don't forget to add $n$ before push since the senator will only be available in the next round."
   ]
  },
  {
   "cell_type": "markdown",
   "metadata": {},
   "source": [
    "## P191\n",
    "\n",
    "Basic binary search problem"
   ]
  },
  {
   "cell_type": "markdown",
   "metadata": {},
   "source": [
    "## P192\n",
    "\n",
    "The answer must consist of three segments.\n",
    "\n",
    "First segment digits stick to $N$.\n",
    "\n",
    "The second segment is of length 1 and the digit is 1 less then the  corresponding digit in $N$.\n",
    "\n",
    "The last segment contains only digit $9$.\n",
    "\n",
    "Remark that each segment can be empty.\n",
    "\n",
    "So we may first investigate how three segments forms due to the number $N$, then generate the answer. "
   ]
  },
  {
   "cell_type": "markdown",
   "metadata": {},
   "source": [
    "## P193\n",
    "\n",
    "we binary search the optimal distance.\n",
    "\n",
    "Given a distance $L$, if two gas station has distance $d$, then $\\lfloor \\frac{d}{L}\\rfloor$ gas station is needed to addin between these two stations. Therefore, we compute the number of gas stations need to add and see whether it exceeds $k$, to identify whether answer $L$ is possible. \n",
    "\n",
    "$L$ can be float number, so we may consider to use \"while r-l > 1e-9\" for binary search looping.\n",
    "\n"
   ]
  },
  {
   "cell_type": "markdown",
   "metadata": {},
   "source": [
    "## P194\n",
    "\n",
    "A basic simulation problem.\n",
    "\n",
    "Do take care of the two possible ways for the change of 20 dollars bill. "
   ]
  },
  {
   "cell_type": "markdown",
   "metadata": {},
   "source": [
    "## P195\n",
    "\n",
    "Firstly sort the array $A$. Then it is easy to observe that the optimal solution must be one of the cases where $A$ is divided into 2 parts, all number in first part add $K$ and all number in second part minus $K$. Optimal solution can be cmoputed in $O(n)$."
   ]
  },
  {
   "cell_type": "markdown",
   "metadata": {},
   "source": [
    "## P196\n",
    "\n",
    "It is always beneficial to consume the token with least value to gain point, and consume the token with most value to gain power. \n",
    "\n",
    "So a greedy solution can be always trying to swap the power to point, and consume 1 point to gain more power and explore more oppotunity\n"
   ]
  },
  {
   "cell_type": "markdown",
   "metadata": {},
   "source": [
    "## P198\n",
    "\n",
    "A simulation problem. \n",
    "\n"
   ]
  },
  {
   "cell_type": "markdown",
   "metadata": {},
   "source": [
    "## P199\n",
    "\n",
    "Do preprocessing first. For each index $i$, compute the right most position of each color that is to the left of $i$. This can be done by scan the list from left to right. \n",
    "\n",
    "Compute symmetrically the left most position of each color to the right. \n",
    "\n",
    "For each query, return the minimum of two value. "
   ]
  },
  {
   "cell_type": "markdown",
   "metadata": {},
   "source": [
    "## P200\n",
    "\n",
    "This can be done with binary search. Firstly assume that $a,b,c$ are relatively prime. Then given $x$, the number of ugly number that is smaller than or equal to $x$ can be computed by inclusive exclusive rule: $x//a + x//b + x//c - x//ab - x//ac - x//bc + x//abc$. \n",
    "\n",
    "For the case that they are not relative, multiplication can be replaced by least common multiple. \n",
    "\n",
    "Then we can apply binary search to find $x$. A lower bound can be $n$, while a trival upper bound is $abcn$. \n",
    "\n"
   ]
  },
  {
   "cell_type": "markdown",
   "metadata": {},
   "source": [
    "## P201\n",
    "\n",
    "Binary search the answer. Given answer $x$, greedily partition the chocolate so that each part has sweetness at least $x$. Then $x$ is a new lower bound to the answer if the partition number is greater than or equal to $k+1$. "
   ]
  },
  {
   "cell_type": "markdown",
   "metadata": {},
   "source": [
    "## P202\n",
    "Given $x$, the number of positive integer that is less than and equal to $x$ and divisible by $a$ is $\\lfloor\\frac{x}{a} \\rfloor$. Therefore, given $x$, the number of positive integer that is magical and less than or equal to $x$ is $\\lfloor\\frac{x}{a}\\rfloor + \\lfloor\\frac{x}{b} \\rfloor - \\lfloor\\frac{x}{lcm(a,b)} \\rfloor$ due to inclusion exclusion rule.\n",
    "\n",
    "Then binary search the answer and output it modulo $10^9+7$."
   ]
  },
  {
   "cell_type": "markdown",
   "metadata": {},
   "source": [
    "## P203\n",
    "Some students might use the built-in function: arr.index(target).\n",
    "\n",
    "Think about a new method with O(log n) time complexity by yourself. \n",
    "\n",
    "Hints: binary search."
   ]
  },
  {
   "cell_type": "markdown",
   "metadata": {},
   "source": [
    "## P204\n",
    "Some students might use the built-in function: arr.index(target).\n",
    "\n",
    "Think about a new method with O(log n) time complexity by yourself.\n",
    "\n",
    "Hints: binary search"
   ]
  },
  {
   "cell_type": "markdown",
   "metadata": {},
   "source": [
    "## P205\n",
    "Use the formula for the perfect square: $ (a+b)^2=a^2+2ab+b^2$ to calculare the square of an integer on by one.\n",
    "\n",
    "You also can use some tecniques to shorten the calculation time, like determining the range first.\n"
   ]
  },
  {
   "cell_type": "markdown",
   "metadata": {},
   "source": [
    "## P206\n",
    "Firstly, decide the order of pairs (h,k) with the same h.\n",
    "\n",
    "Secondly, decide the order of pairs (h,k) with the same k.\n"
   ]
  },
  {
   "cell_type": "markdown",
   "metadata": {},
   "source": [
    "## P209\n",
    "Calculate the gap between every two adjacent numbers in the array. \n",
    "\n",
    "Then, you can calculate how many numbers are missed and determine  which interval the objective number lies in.\n",
    "\n",
    "Pay attention to the time complexity."
   ]
  }
 ],
 "metadata": {
  "kernelspec": {
   "display_name": "Python 3",
   "language": "python",
   "name": "python3"
  },
  "language_info": {
   "codemirror_mode": {
    "name": "ipython",
    "version": 3
   },
   "file_extension": ".py",
   "mimetype": "text/x-python",
   "name": "python",
   "nbconvert_exporter": "python",
   "pygments_lexer": "ipython3",
   "version": "3.7.6"
  }
 },
 "nbformat": 4,
 "nbformat_minor": 4
}

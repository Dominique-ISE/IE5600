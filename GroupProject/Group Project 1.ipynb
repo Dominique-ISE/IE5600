{
 "cells": [
  {
   "cell_type": "markdown",
   "metadata": {
    "slideshow": {
     "slide_type": "fragment"
    }
   },
   "source": [
    "# Group Project 1 (Due - Sept 18, 2020)\n",
    "\n",
    "### Using pandas, numpy, matplotlib, markdown, RISE, Yahoo Finance, produce the most interesting/useful slidedeck of NINE slides. Using these NINE slides, make a FIVE minutes presentation to the class on Sept 18, 2020. The notebook in your team github for others do download)"
   ]
  },
  {
   "cell_type": "markdown",
   "metadata": {},
   "source": [
    "## Getting data from Yahoo Finance"
   ]
  },
  {
   "cell_type": "code",
   "execution_count": 1,
   "metadata": {
    "ExecuteTime": {
     "end_time": "2020-01-17T23:26:32.940680Z",
     "start_time": "2020-01-17T23:26:31.807352Z"
    }
   },
   "outputs": [],
   "source": [
    "import pandas as pd \n",
    "import yfinance as yf"
   ]
  },
  {
   "cell_type": "code",
   "execution_count": 2,
   "metadata": {
    "ExecuteTime": {
     "end_time": "2020-01-17T23:26:33.877155Z",
     "start_time": "2020-01-17T23:26:33.576806Z"
    }
   },
   "outputs": [],
   "source": [
    "df_yahoo = yf.download('AAPL', \n",
    "                       start='2000-01-01', \n",
    "                       end='2020-09-03',\n",
    "                       progress=False)\n",
    "df_msft = yf.download('MSFT',\n",
    "                       start='2020-01-01',\n",
    "                       end='2020-09-03',\n",
    "                       progress=False)\n",
    "df_amzn = yf.download('AMZN',\n",
    "                       start='2000-01-01',\n",
    "                       end='2020-09-03',\n",
    "                       progress=False)"
   ]
  },
  {
   "cell_type": "code",
   "execution_count": 3,
   "metadata": {
    "ExecuteTime": {
     "end_time": "2020-01-17T23:26:38.561800Z",
     "start_time": "2020-01-17T23:26:38.541896Z"
    }
   },
   "outputs": [
    {
     "name": "stdout",
     "output_type": "stream",
     "text": [
      "Downloaded 5202 rows of data.\n",
      "                Open      High       Low     Close  Adj Close     Volume\n",
      "Date                                                                    \n",
      "1999-12-31  0.901228  0.918527  0.888393  0.917969   0.793253  163811200\n",
      "2000-01-03  0.936384  1.004464  0.907924  0.999442   0.863657  535796800\n",
      "2000-01-04  0.966518  0.987723  0.903460  0.915179   0.790842  512377600\n",
      "2000-01-05  0.926339  0.987165  0.919643  0.928571   0.802415  778321600\n",
      "2000-01-06  0.947545  0.955357  0.848214  0.848214   0.732975  767972800\n",
      "                  Open        High         Low       Close   Adj Close  \\\n",
      "Date                                                                     \n",
      "2020-08-27  127.142502  127.485001  123.832497  125.010002  125.010002   \n",
      "2020-08-28  126.012497  126.442497  124.577499  124.807503  124.807503   \n",
      "2020-08-31  127.580002  131.000000  126.000000  129.039993  129.039993   \n",
      "2020-09-01  132.759995  134.800003  130.529999  134.179993  134.179993   \n",
      "2020-09-02  137.589996  137.979996  127.000000  131.399994  131.399994   \n",
      "\n",
      "               Volume  \n",
      "Date                   \n",
      "2020-08-27  155552400  \n",
      "2020-08-28  187630000  \n",
      "2020-08-31  225702700  \n",
      "2020-09-01  152470100  \n",
      "2020-09-02  200119000  \n"
     ]
    }
   ],
   "source": [
    "print(f'Downloaded {df_yahoo.shape[0]} rows of data.')\n",
    "print(df_yahoo.head())\n",
    "print(df_yahoo.tail())"
   ]
  },
  {
   "cell_type": "code",
   "execution_count": 4,
   "metadata": {
    "ExecuteTime": {
     "end_time": "2020-01-17T23:26:38.561800Z",
     "start_time": "2020-01-17T23:26:38.541896Z"
    }
   },
   "outputs": [
    {
     "name": "stdout",
     "output_type": "stream",
     "text": [
      "Downloaded 171 rows of data.\n",
      "                  Open        High         Low       Close   Adj Close  \\\n",
      "Date                                                                     \n",
      "2019-12-31  156.770004  157.770004  156.449997  157.699997  156.455429   \n",
      "2020-01-02  158.779999  160.729996  158.330002  160.619995  159.352386   \n",
      "2020-01-03  158.320007  159.949997  158.059998  158.619995  157.368179   \n",
      "2020-01-06  157.080002  159.100006  156.509995  159.029999  157.774948   \n",
      "2020-01-07  159.320007  159.669998  157.320007  157.580002  156.336395   \n",
      "\n",
      "              Volume  \n",
      "Date                  \n",
      "2019-12-31  18369400  \n",
      "2020-01-02  22622100  \n",
      "2020-01-03  21116200  \n",
      "2020-01-06  20813700  \n",
      "2020-01-07  21634100  \n"
     ]
    },
    {
     "data": {
      "text/html": [
       "<div>\n",
       "<style scoped>\n",
       "    .dataframe tbody tr th:only-of-type {\n",
       "        vertical-align: middle;\n",
       "    }\n",
       "\n",
       "    .dataframe tbody tr th {\n",
       "        vertical-align: top;\n",
       "    }\n",
       "\n",
       "    .dataframe thead th {\n",
       "        text-align: right;\n",
       "    }\n",
       "</style>\n",
       "<table border=\"1\" class=\"dataframe\">\n",
       "  <thead>\n",
       "    <tr style=\"text-align: right;\">\n",
       "      <th></th>\n",
       "      <th>Open</th>\n",
       "      <th>High</th>\n",
       "      <th>Low</th>\n",
       "      <th>Close</th>\n",
       "      <th>Adj Close</th>\n",
       "      <th>Volume</th>\n",
       "    </tr>\n",
       "    <tr>\n",
       "      <th>Date</th>\n",
       "      <th></th>\n",
       "      <th></th>\n",
       "      <th></th>\n",
       "      <th></th>\n",
       "      <th></th>\n",
       "      <th></th>\n",
       "    </tr>\n",
       "  </thead>\n",
       "  <tbody>\n",
       "    <tr>\n",
       "      <td>2020-04-14</td>\n",
       "      <td>169.000000</td>\n",
       "      <td>173.750000</td>\n",
       "      <td>168.000000</td>\n",
       "      <td>173.699997</td>\n",
       "      <td>172.799866</td>\n",
       "      <td>52874300</td>\n",
       "    </tr>\n",
       "    <tr>\n",
       "      <td>2020-04-15</td>\n",
       "      <td>171.199997</td>\n",
       "      <td>173.570007</td>\n",
       "      <td>169.240005</td>\n",
       "      <td>171.880005</td>\n",
       "      <td>170.989304</td>\n",
       "      <td>40940800</td>\n",
       "    </tr>\n",
       "    <tr>\n",
       "      <td>2020-04-16</td>\n",
       "      <td>174.300003</td>\n",
       "      <td>177.279999</td>\n",
       "      <td>172.899994</td>\n",
       "      <td>177.039993</td>\n",
       "      <td>176.122543</td>\n",
       "      <td>50479600</td>\n",
       "    </tr>\n",
       "    <tr>\n",
       "      <td>2020-04-17</td>\n",
       "      <td>179.500000</td>\n",
       "      <td>180.000000</td>\n",
       "      <td>175.869995</td>\n",
       "      <td>178.600006</td>\n",
       "      <td>177.674484</td>\n",
       "      <td>52765600</td>\n",
       "    </tr>\n",
       "    <tr>\n",
       "      <td>2020-04-20</td>\n",
       "      <td>176.630005</td>\n",
       "      <td>178.750000</td>\n",
       "      <td>174.990005</td>\n",
       "      <td>175.059998</td>\n",
       "      <td>174.152817</td>\n",
       "      <td>36669600</td>\n",
       "    </tr>\n",
       "    <tr>\n",
       "      <td>...</td>\n",
       "      <td>...</td>\n",
       "      <td>...</td>\n",
       "      <td>...</td>\n",
       "      <td>...</td>\n",
       "      <td>...</td>\n",
       "      <td>...</td>\n",
       "    </tr>\n",
       "    <tr>\n",
       "      <td>2020-08-27</td>\n",
       "      <td>222.889999</td>\n",
       "      <td>231.149994</td>\n",
       "      <td>219.399994</td>\n",
       "      <td>226.580002</td>\n",
       "      <td>226.580002</td>\n",
       "      <td>57602200</td>\n",
       "    </tr>\n",
       "    <tr>\n",
       "      <td>2020-08-28</td>\n",
       "      <td>228.179993</td>\n",
       "      <td>230.639999</td>\n",
       "      <td>226.580002</td>\n",
       "      <td>228.910004</td>\n",
       "      <td>228.910004</td>\n",
       "      <td>26292900</td>\n",
       "    </tr>\n",
       "    <tr>\n",
       "      <td>2020-08-31</td>\n",
       "      <td>227.000000</td>\n",
       "      <td>228.699997</td>\n",
       "      <td>224.309998</td>\n",
       "      <td>225.529999</td>\n",
       "      <td>225.529999</td>\n",
       "      <td>28774200</td>\n",
       "    </tr>\n",
       "    <tr>\n",
       "      <td>2020-09-01</td>\n",
       "      <td>225.509995</td>\n",
       "      <td>227.449997</td>\n",
       "      <td>224.429993</td>\n",
       "      <td>227.270004</td>\n",
       "      <td>227.270004</td>\n",
       "      <td>25791200</td>\n",
       "    </tr>\n",
       "    <tr>\n",
       "      <td>2020-09-02</td>\n",
       "      <td>227.970001</td>\n",
       "      <td>232.860001</td>\n",
       "      <td>227.350006</td>\n",
       "      <td>231.649994</td>\n",
       "      <td>231.649994</td>\n",
       "      <td>34080800</td>\n",
       "    </tr>\n",
       "  </tbody>\n",
       "</table>\n",
       "<p>100 rows × 6 columns</p>\n",
       "</div>"
      ],
      "text/plain": [
       "                  Open        High         Low       Close   Adj Close  \\\n",
       "Date                                                                     \n",
       "2020-04-14  169.000000  173.750000  168.000000  173.699997  172.799866   \n",
       "2020-04-15  171.199997  173.570007  169.240005  171.880005  170.989304   \n",
       "2020-04-16  174.300003  177.279999  172.899994  177.039993  176.122543   \n",
       "2020-04-17  179.500000  180.000000  175.869995  178.600006  177.674484   \n",
       "2020-04-20  176.630005  178.750000  174.990005  175.059998  174.152817   \n",
       "...                ...         ...         ...         ...         ...   \n",
       "2020-08-27  222.889999  231.149994  219.399994  226.580002  226.580002   \n",
       "2020-08-28  228.179993  230.639999  226.580002  228.910004  228.910004   \n",
       "2020-08-31  227.000000  228.699997  224.309998  225.529999  225.529999   \n",
       "2020-09-01  225.509995  227.449997  224.429993  227.270004  227.270004   \n",
       "2020-09-02  227.970001  232.860001  227.350006  231.649994  231.649994   \n",
       "\n",
       "              Volume  \n",
       "Date                  \n",
       "2020-04-14  52874300  \n",
       "2020-04-15  40940800  \n",
       "2020-04-16  50479600  \n",
       "2020-04-17  52765600  \n",
       "2020-04-20  36669600  \n",
       "...              ...  \n",
       "2020-08-27  57602200  \n",
       "2020-08-28  26292900  \n",
       "2020-08-31  28774200  \n",
       "2020-09-01  25791200  \n",
       "2020-09-02  34080800  \n",
       "\n",
       "[100 rows x 6 columns]"
      ]
     },
     "execution_count": 4,
     "metadata": {},
     "output_type": "execute_result"
    }
   ],
   "source": [
    "print(f'Downloaded {df_msft.shape[0]} rows of data.')\n",
    "print(df_msft.head())\n",
    "df_msft.tail(100)"
   ]
  },
  {
   "cell_type": "code",
   "execution_count": 74,
   "metadata": {
    "ExecuteTime": {
     "end_time": "2020-01-17T23:26:38.561800Z",
     "start_time": "2020-01-17T23:26:38.541896Z"
    }
   },
   "outputs": [
    {
     "name": "stdout",
     "output_type": "stream",
     "text": [
      "Downloaded 5202 rows of data.\n",
      "               Open     High        Low    Close  Adj Close    Volume\n",
      "Date                                                                 \n",
      "1999-12-31  79.3125  79.3750  76.000000  76.1250    76.1250   7270700\n",
      "2000-01-03  81.5000  89.5625  79.046875  89.3750    89.3750  16117600\n",
      "2000-01-04  85.3750  91.5000  81.750000  81.9375    81.9375  17487400\n",
      "2000-01-05  70.5000  75.1250  68.000000  69.7500    69.7500  38457400\n",
      "2000-01-06  71.3125  72.6875  64.000000  65.5625    65.5625  18752000\n",
      "                   Open         High          Low        Close    Adj Close  \\\n",
      "Date                                                                          \n",
      "2020-04-14  2200.469971  2292.000000  2186.209961  2283.320068  2283.320068   \n",
      "2020-04-15  2257.679932  2333.370117  2245.000000  2307.679932  2307.679932   \n",
      "2020-04-16  2346.000000  2461.000000  2335.000000  2408.189941  2408.189941   \n",
      "2020-04-17  2372.330078  2400.000000  2316.020020  2375.000000  2375.000000   \n",
      "2020-04-20  2389.949951  2444.979980  2386.050049  2393.610107  2393.610107   \n",
      "...                 ...          ...          ...          ...          ...   \n",
      "2020-08-27  3450.050049  3453.000000  3378.000000  3400.000000  3400.000000   \n",
      "2020-08-28  3423.000000  3433.370117  3386.500000  3401.800049  3401.800049   \n",
      "2020-08-31  3408.989990  3495.000000  3405.000000  3450.959961  3450.959961   \n",
      "2020-09-01  3489.580078  3513.870117  3467.000000  3499.120117  3499.120117   \n",
      "2020-09-02  3547.000000  3552.250000  3486.689941  3531.449951  3531.449951   \n",
      "\n",
      "              Volume  \n",
      "Date                  \n",
      "2020-04-14   8087200  \n",
      "2020-04-15   6866600  \n",
      "2020-04-16  12038200  \n",
      "2020-04-17   7930000  \n",
      "2020-04-20   5770700  \n",
      "...              ...  \n",
      "2020-08-27   4264800  \n",
      "2020-08-28   2897000  \n",
      "2020-08-31   4185900  \n",
      "2020-09-01   3476400  \n",
      "2020-09-02   3931500  \n",
      "\n",
      "[100 rows x 6 columns]\n"
     ]
    }
   ],
   "source": [
    "print(f'Downloaded {df_amzn.shape[0]} rows of data.')\n",
    "print(df_amzn.head())\n",
    "print(df_amzn.tail(100))"
   ]
  },
  {
   "cell_type": "code",
   "execution_count": 5,
   "metadata": {
    "ExecuteTime": {
     "end_time": "2020-01-17T23:26:38.561800Z",
     "start_time": "2020-01-17T23:26:38.541896Z"
    }
   },
   "outputs": [
    {
     "name": "stdout",
     "output_type": "stream",
     "text": [
      "['__class__', '__delattr__', '__dict__', '__dir__', '__doc__', '__eq__', '__format__', '__ge__', '__getattribute__', '__gt__', '__hash__', '__init__', '__init_subclass__', '__le__', '__lt__', '__module__', '__ne__', '__new__', '__reduce__', '__reduce_ex__', '__repr__', '__setattr__', '__sizeof__', '__str__', '__subclasshook__', '__weakref__', '_balancesheet', '_base_url', '_calendar', '_cashflow', '_download_options', '_earnings', '_expirations', '_financials', '_fundamentals', '_get_fundamentals', '_history', '_info', '_institutional_holders', '_isin', '_major_holders', '_options2df', '_recommendations', '_scrape_url', '_sustainability', 'actions', 'balance_sheet', 'balancesheet', 'calendar', 'cashflow', 'dividends', 'earnings', 'financials', 'get_actions', 'get_balance_sheet', 'get_balancesheet', 'get_calendar', 'get_cashflow', 'get_dividends', 'get_earnings', 'get_financials', 'get_info', 'get_institutional_holders', 'get_isin', 'get_major_holders', 'get_recommendations', 'get_splits', 'get_sustainability', 'history', 'info', 'institutional_holders', 'isin', 'major_holders', 'option_chain', 'options', 'quarterly_balance_sheet', 'quarterly_balancesheet', 'quarterly_cashflow', 'quarterly_earnings', 'quarterly_financials', 'recommendations', 'splits', 'sustainability', 'ticker']\n",
      "{'zip': '98052-6399', 'sector': 'Technology', 'fullTimeEmployees': 163000, 'longBusinessSummary': 'Microsoft Corporation develops, licenses, and supports software, services, devices, and solutions worldwide. Its Productivity and Business Processes segment offers Office, Exchange, SharePoint, Microsoft Teams, Office 365 Security and Compliance, and Skype for Business, as well as related Client Access Licenses (CAL); Skype, Outlook.com, and OneDrive; LinkedIn that includes Talent, Learning, Sales, and Marketing solutions, as well as premium subscriptions; and Dynamics 365, a set of cloud-based and on-premises business solutions for small and medium businesses, large organizations, and divisions of enterprises. Its Intelligent Cloud segment licenses SQL and Windows Servers, Visual Studio, System Center, and related CALs; GitHub that provides a collaboration platform and code hosting service for developers; and Azure, a cloud platform. It also offers support services and Microsoft consulting services to assist customers in developing, deploying, and managing Microsoft server and desktop solutions; and training and certification to developers and IT professionals on various Microsoft products. Its More Personal Computing segment provides Windows original equipment manufacturer (OEM) licensing and other non-volume licensing of the Windows operating system; Windows Commercial, such as volume licensing of the Windows operating system, Windows cloud services, and other Windows commercial offerings; patent licensing; Windows Internet of Things; and MSN advertising. It also offers Surface, PC accessories, PCs, tablets, gaming and entertainment consoles, and other intelligent devices; Gaming, including Xbox hardware, and Xbox content and services; video games and third-party video game royalties; and Search, including Bing and Microsoft advertising. It sells its products through OEMs, distributors, and resellers; and directly through digital marketplaces, online stores, and retail stores. The company was founded in 1975 and is headquartered in Redmond, Washington.', 'city': 'Redmond', 'phone': '425-882-8080', 'state': 'WA', 'country': 'United States', 'companyOfficers': [], 'website': 'http://www.microsoft.com', 'maxAge': 1, 'address1': 'One Microsoft Way', 'industry': 'Software—Infrastructure', 'previousClose': 231.65, 'regularMarketOpen': 229.27, 'twoHundredDayAverage': 186.37508, 'trailingAnnualDividendYield': 0.008806389, 'payoutRatio': 0.3455, 'volume24Hr': None, 'regularMarketDayHigh': 229.31, 'navPrice': None, 'averageDailyVolume10Day': 36666837, 'totalAssets': None, 'regularMarketPreviousClose': 231.65, 'fiftyDayAverage': 212.20056, 'trailingAnnualDividendRate': 2.04, 'open': 229.27, 'toCurrency': None, 'averageVolume10days': 36666837, 'expireDate': None, 'yield': None, 'algorithm': None, 'dividendRate': 2.04, 'exDividendDate': 1597795200, 'beta': 0.893534, 'circulatingSupply': None, 'startDate': None, 'regularMarketDayLow': 214.9602, 'priceHint': 2, 'currency': 'USD', 'trailingPE': 37.725693, 'regularMarketVolume': 55648965, 'lastMarket': None, 'maxSupply': None, 'openInterest': None, 'marketCap': 1644450283520, 'volumeAllCurrencies': None, 'strikePrice': None, 'averageVolume': 34848958, 'priceToSalesTrailing12Months': 11.498446, 'dayLow': 214.9602, 'ask': 217.59, 'ytdReturn': None, 'askSize': 800, 'volume': 55648965, 'fiftyTwoWeekHigh': 232.86, 'forwardPE': 29.604904, 'fromCurrency': None, 'fiveYearAvgDividendYield': 1.83, 'fiftyTwoWeekLow': 132.52, 'bid': 217.35, 'tradeable': False, 'dividendYield': 0.0088, 'bidSize': 1000, 'dayHigh': 229.31, 'exchange': 'NMS', 'shortName': 'Microsoft Corporation', 'longName': 'Microsoft Corporation', 'exchangeTimezoneName': 'America/New_York', 'exchangeTimezoneShortName': 'EDT', 'isEsgPopulated': False, 'gmtOffSetMilliseconds': '-14400000', 'quoteType': 'EQUITY', 'symbol': 'MSFT', 'messageBoardId': 'finmb_21835', 'market': 'us_market', 'annualHoldingsTurnover': None, 'enterpriseToRevenue': 11.118, 'beta3Year': None, 'profitMargins': 0.30962, 'enterpriseToEbitda': 24.366, '52WeekChange': 0.5621854, 'morningStarRiskRating': None, 'forwardEps': 7.34, 'revenueQuarterlyGrowth': None, 'sharesOutstanding': 7567649792, 'fundInceptionDate': None, 'annualReportExpenseRatio': None, 'bookValue': 15.626, 'sharesShort': 29634174, 'sharesPercentSharesOut': 0.0039, 'fundFamily': None, 'lastFiscalYearEnd': 1593475200, 'heldPercentInstitutions': 0.74093, 'netIncomeToCommon': 44280999936, 'trailingEps': 5.76, 'lastDividendValue': None, 'SandP52WeekChange': 0.15991831, 'priceToBook': 13.90631, 'heldPercentInsiders': 0.014249999, 'nextFiscalYearEnd': 1656547200, 'mostRecentQuarter': 1593475200, 'shortRatio': 0.82, 'sharesShortPreviousMonthDate': 1594771200, 'floatShares': 7455954378, 'enterpriseValue': 1590069035008, 'threeYearAverageReturn': None, 'lastSplitDate': 1045526400, 'lastSplitFactor': '2:1', 'legalType': None, 'morningStarOverallRating': None, 'earningsQuarterlyGrowth': -0.151, 'dateShortInterest': 1597363200, 'pegRatio': 2.39, 'lastCapGain': None, 'shortPercentOfFloat': 0.004, 'sharesShortPriorMonth': 39894144, 'category': None, 'fiveYearAverageReturn': None, 'regularMarketPrice': 229.27, 'logo_url': 'https://logo.clearbit.com/microsoft.com'}\n",
      "Date\n",
      "1987-09-21    2.0\n",
      "1990-04-16    2.0\n",
      "1991-06-27    1.5\n",
      "1992-06-15    1.5\n",
      "1994-05-23    2.0\n",
      "1996-12-09    2.0\n",
      "1998-02-23    2.0\n",
      "1999-03-29    2.0\n",
      "2003-02-18    2.0\n",
      "Name: Stock Splits, dtype: float64\n",
      "Date\n",
      "2003-02-19    0.08\n",
      "2003-10-15    0.16\n",
      "2004-08-23    0.08\n",
      "2004-11-15    3.08\n",
      "2005-02-15    0.08\n",
      "              ... \n",
      "2019-08-14    0.46\n",
      "2019-11-20    0.51\n",
      "2020-02-19    0.51\n",
      "2020-05-20    0.51\n",
      "2020-08-19    0.51\n",
      "Name: Dividends, Length: 67, dtype: float64\n",
      "Empty DataFrame\n",
      "Columns: [Open, High, Low, Close, Adj Close, Volume]\n",
      "Index: []\n",
      "                               Firm       To Grade  From Grade Action\n",
      "Date                                                                 \n",
      "2012-03-16 08:19:00  Argus Research            Buy                 up\n",
      "2012-03-19 14:00:00  Hilliard Lyons  Long-Term Buy               main\n",
      "2012-03-22 07:03:00  Morgan Stanley     Overweight               main\n",
      "2012-04-03 11:53:00             UBS            Buy               main\n",
      "2012-04-20 06:18:00   Deutsche Bank            Buy               main\n",
      "...                             ...            ...         ...    ...\n",
      "2020-07-20 11:39:40        Barclays     Overweight               main\n",
      "2020-07-20 13:50:49       Jefferies            Buy               main\n",
      "2020-07-20 14:48:02   Raymond James     Strong Buy               main\n",
      "2020-07-23 08:43:04   Piper Sandler     Overweight               main\n",
      "2020-07-23 13:06:12     Oppenheimer        Perform  Outperform   down\n",
      "\n",
      "[279 rows x 4 columns]\n",
      "                                    0                    1\n",
      "Earnings Date     2020-10-21 00:00:00  2020-10-26 00:00:00\n",
      "Earnings Average                 1.54                 1.54\n",
      "Earnings Low                     1.49                 1.49\n",
      "Earnings High                    1.61                 1.61\n",
      "Revenue Average           35689500000          35689500000\n",
      "Revenue Low               35299100000          35299100000\n",
      "Revenue High              36394000000          36394000000\n"
     ]
    },
    {
     "name": "stdout",
     "output_type": "stream",
     "text": [
      "US5949181045\n",
      "('2020-09-04', '2020-09-11', '2020-09-18', '2020-09-25', '2020-10-02', '2020-10-09', '2020-10-16', '2020-11-20', '2020-12-18', '2021-01-15', '2021-02-19', '2021-03-19', '2021-04-16', '2021-06-18', '2021-07-16', '2021-09-17', '2022-01-21', '2022-03-18', '2022-06-17', '2022-09-16')\n"
     ]
    }
   ],
   "source": [
    "#print(dir(yf))\n",
    "m = yf.Ticker(\"MSFT\")\n",
    "m.history(period=\"max\")\n",
    "print(dir(m))\n",
    "print(m.info)\n",
    "#print(m.actions)\n",
    "print(m.splits)\n",
    "#print(m.major_holders)\n",
    "print(m.dividends)\n",
    "#print(m.cashflow)\n",
    "print(m.financials)\n",
    "#print(m.quarterly_financials)\n",
    "#print(m.institutional_holders)\n",
    "#print(m.balance_sheet)\n",
    "#print(m.quarterly_balance_sheet)\n",
    "#print(m.cashflow)\n",
    "#print(m.quarterly_cashflow)\n",
    "#print(m.earnings)\n",
    "#print(m.quarterly_earnings)\n",
    "#print(m.sustainability)\n",
    "print(m.recommendations)\n",
    "print(m.calendar)\n",
    "print(m.isin)\n",
    "print(m.options)\n"
   ]
  },
  {
   "cell_type": "code",
   "execution_count": null,
   "metadata": {},
   "outputs": [],
   "source": []
  }
 ],
 "metadata": {
  "kernelspec": {
   "display_name": "Python 3",
   "language": "python",
   "name": "python3"
  },
  "language_info": {
   "codemirror_mode": {
    "name": "ipython",
    "version": 3
   },
   "file_extension": ".py",
   "mimetype": "text/x-python",
   "name": "python",
   "nbconvert_exporter": "python",
   "pygments_lexer": "ipython3",
   "version": "3.7.4"
  },
  "toc": {
   "base_numbering": 1,
   "nav_menu": {},
   "number_sections": true,
   "sideBar": true,
   "skip_h1_title": false,
   "title_cell": "Table of Contents",
   "title_sidebar": "Contents",
   "toc_cell": false,
   "toc_position": {
    "height": "calc(100% - 180px)",
    "left": "10px",
    "top": "150px",
    "width": "342px"
   },
   "toc_section_display": true,
   "toc_window_display": true
  },
  "varInspector": {
   "cols": {
    "lenName": 16,
    "lenType": 16,
    "lenVar": 40
   },
   "kernels_config": {
    "python": {
     "delete_cmd_postfix": "",
     "delete_cmd_prefix": "del ",
     "library": "var_list.py",
     "varRefreshCmd": "print(var_dic_list())"
    },
    "r": {
     "delete_cmd_postfix": ") ",
     "delete_cmd_prefix": "rm(",
     "library": "var_list.r",
     "varRefreshCmd": "cat(var_dic_list()) "
    }
   },
   "types_to_exclude": [
    "module",
    "function",
    "builtin_function_or_method",
    "instance",
    "_Feature"
   ],
   "window_display": false
  }
 },
 "nbformat": 4,
 "nbformat_minor": 2
}

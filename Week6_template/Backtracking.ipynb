{
 "cells": [
  {
   "cell_type": "markdown",
   "metadata": {},
   "source": [
    "## N-Queens Problem\n",
    "\n",
    "#### Code"
   ]
  },
  {
   "cell_type": "code",
   "execution_count": null,
   "metadata": {},
   "outputs": [],
   "source": [
    "x = []\n",
    "\n",
    "def Place(k,i):\n",
    "    for j in range(1,k):\n",
    "        if x[j]==i or abs(x[j]-i)==abs(j-k):\n",
    "            return False\n",
    "    return True    \n",
    "\n",
    "def NQueens(k,n):\n",
    "    global x \n",
    "    if k==1: x = [-1 for i in range(n+1)]\n",
    "    for i in range(1,n+1):\n",
    "        if Place(k,i):\n",
    "            x[k] = i\n",
    "            if k==n:\n",
    "                for j in range(1,n+1):\n",
    "                    print(x[j],end = ' ')\n",
    "                print()\n",
    "            else:\n",
    "                NQueens(k+1,n)\n",
    "                \n",
    "\n",
    "NQueens(1,4)\n",
    "                    "
   ]
  },
  {
   "cell_type": "markdown",
   "metadata": {},
   "source": [
    "## Subset Sum\n",
    "\n",
    "#### Code"
   ]
  },
  {
   "cell_type": "code",
   "execution_count": null,
   "metadata": {},
   "outputs": [],
   "source": [
    "\n",
    "n = 7\n",
    "m = 0\n",
    "w = [1 for i in range(n)]\n",
    "w.sort()\n",
    "#It is assumed that w[1] <= m and total sum of w[i] >=m\n",
    "\n",
    "x = [0 for i in range(n)]\n",
    "def SumofSub(s,k,r):\n",
    "    global x \n",
    "    x[k] = 1\n",
    "    if s+w[k]==m:\n",
    "        for j in range(n):\n",
    "            print(x[j],end = ' ')\n",
    "        print()\n",
    "    \n",
    "    if k+1<n and s+w[k]+w[k+1]<=m:\n",
    "        SumofSub(s+w[k],k+1,r-w[k])\n",
    "    if k+1<n and s+r-w[k]>=m and s+w[k+1]<=m:\n",
    "        x[k] = 0\n",
    "        SumofSub(s,k+1,r-w[k])\n",
    "    x[k] = 0\n",
    "\n",
    "m = 1\n",
    "SumofSub(0,0,sum(w))\n"
   ]
  },
  {
   "cell_type": "markdown",
   "metadata": {},
   "source": [
    "## Finding all m-coloring of a graph\n",
    "\n",
    "#### Code"
   ]
  },
  {
   "cell_type": "code",
   "execution_count": null,
   "metadata": {},
   "outputs": [],
   "source": [
    "\n",
    "n = 3\n",
    "m = 3\n",
    "x = [0 for i in range(n+1)]\n",
    "adj = [[] for i in range(n+1)]\n",
    "\n",
    "def NextValue(k):\n",
    "    global x\n",
    "    while True:\n",
    "        x[k] = (x[k]+1)%(m+1)\n",
    "        if x[k]==0: return\n",
    "        flag = 0\n",
    "        for j in range(1,n+1):\n",
    "            for v in adj[k]:\n",
    "                if x[v]==x[k]:\n",
    "                    flag = 1\n",
    "                    break\n",
    "        if flag==0: return\n",
    "        \n",
    "\n",
    "def mcoloring(k):\n",
    "    while True:\n",
    "        NextValue(k)\n",
    "        if x[k]==0: return\n",
    "        if k==n:\n",
    "            for i in range(1,n+1):\n",
    "                print(x[i], end = ' ')\n",
    "            print()\n",
    "        else:\n",
    "            mcoloring(k+1)\n",
    "            \n",
    "mcoloring(1)\n",
    "    "
   ]
  },
  {
   "cell_type": "markdown",
   "metadata": {},
   "source": [
    "## Hamiltonian\n",
    "\n",
    "#### Code"
   ]
  },
  {
   "cell_type": "code",
   "execution_count": null,
   "metadata": {},
   "outputs": [],
   "source": [
    "\n",
    "n = 3\n",
    "x = [0 for i in range(n+1)]\n",
    "adj = [[] for i in range(n+1)]\n",
    "\n",
    "def NextValue(k):\n",
    "    global x\n",
    "    while True:\n",
    "        x[k] = (x[k]+1)%(n+1)\n",
    "        if x[k]==0: return\n",
    "        if x[k-1] in adj[x[k]]:\n",
    "            flag = 0\n",
    "            for j in range(1,k):\n",
    "                if x[j]==x[k]:\n",
    "                    flag = 1\n",
    "                    break\n",
    "            if flag==0:\n",
    "                if k<n or (k==n and x[n] in adj[x[1]]): return\n",
    "\n",
    "def Hamiltonian(k):\n",
    "    while True:\n",
    "        NextValue(k)\n",
    "        if x[k]==0: return\n",
    "        if k==n:\n",
    "            for i in range(1,n+1):\n",
    "                print(x[i], end = ' ')\n",
    "            print()\n",
    "        else:\n",
    "            Hamiltonian(k+1)\n",
    "\n",
    "adj[1] = [2,3]\n",
    "adj[2] = [1,3]\n",
    "adj[3] = [1,2]        \n",
    "    \n",
    "x[1] = 1\n",
    "Hamiltonian(2)\n",
    "    "
   ]
  }
 ],
 "metadata": {
  "kernelspec": {
   "display_name": "Python 3",
   "language": "python",
   "name": "python3"
  },
  "language_info": {
   "codemirror_mode": {
    "name": "ipython",
    "version": 3
   },
   "file_extension": ".py",
   "mimetype": "text/x-python",
   "name": "python",
   "nbconvert_exporter": "python",
   "pygments_lexer": "ipython3",
   "version": "3.7.6"
  }
 },
 "nbformat": 4,
 "nbformat_minor": 4
}

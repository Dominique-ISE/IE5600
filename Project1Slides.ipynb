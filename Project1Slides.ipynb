{
 "metadata": {
  "language_info": {
   "codemirror_mode": {
    "name": "ipython",
    "version": 3
   },
   "file_extension": ".py",
   "mimetype": "text/x-python",
   "name": "python",
   "nbconvert_exporter": "python",
   "pygments_lexer": "ipython3",
   "version": "3.6.7-final"
  },
  "orig_nbformat": 2,
  "kernelspec": {
   "name": "python_defaultSpec_1600427271764",
   "display_name": "Python 3.6.7 64-bit"
  }
 },
 "nbformat": 4,
 "nbformat_minor": 2,
 "cells": [
  {
   "source": [
    "## Group A\n",
    "[Github Link](https://github.com/Rayen96/IE5600Project1)"
   ],
   "cell_type": "markdown",
   "metadata": {}
  },
  {
   "source": [
    "## Group B\n",
    "[Github Link](https://github.com/seahchoonkong/IE5600Project1)"
   ],
   "cell_type": "markdown",
   "metadata": {}
  },
  {
   "source": [
    "## Group C\n",
    "[Github Link](https://github.com/scottlai0/IE5600-Group-Project/blob/master/Group_Project_1_presentation.ipynb)"
   ],
   "cell_type": "markdown",
   "metadata": {}
  },
  {
   "source": [
    "## Group D\n",
    "[Github Link](https://github.com/leochang97/IE5600-Project1-Grp-D)"
   ],
   "cell_type": "markdown",
   "metadata": {}
  },
  {
   "source": [
    "## Group E\n",
    "[Github Link](https://git.io/JU0Vh)"
   ],
   "cell_type": "markdown",
   "metadata": {}
  },
  {
   "source": [
    "## Group F\n",
    "[Github Link](https://github.com/IE5600-Group-F/Project-1)"
   ],
   "cell_type": "markdown",
   "metadata": {}
  },
  {
   "source": [
    "## Group G\n",
    "[Github Link](https://github.com/GuRuxixue/IE5600)"
   ],
   "cell_type": "markdown",
   "metadata": {}
  },
  {
   "source": [
    "## Group H\n",
    "[Github Link](https://github.com/Steven-Lei-Hao/IE5600-projec-1)"
   ],
   "cell_type": "markdown",
   "metadata": {}
  },
  {
   "source": [
    "## Group I\n",
    "[Github Link](https://github.com/lowsinfou/IE5600_Group_Project/tree/master/Group_Project_1)"
   ],
   "cell_type": "markdown",
   "metadata": {}
  }
 ]
}